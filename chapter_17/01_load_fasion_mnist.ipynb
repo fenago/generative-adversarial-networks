{
  "nbformat_minor": 1, 
  "nbformat": 4, 
  "cells": [
    {
      "source": [
        "## Fashion-MNIST Clothing Photograph Dataset\n", 
        "The Fashion-MNIST dataset is proposed as a more challenging replacement dataset for the\n", 
        "MNIST dataset. It is a dataset comprised of 60,000 small square 28 \u00d7 28 pixel grayscale images\n", 
        "of items of 10 types of clothing, such as shoes, t-shirts, dresses, and more. Keras provides access\n", 
        "to the Fashion-MNIST dataset via the fashion mnist.load dataset() function. It returns\n", 
        "two tuples, one with the input and output elements for the standard training dataset, and\n", 
        "another with the input and output elements for the standard test dataset. The example below\n", 
        "loads the dataset and summarizes the shape of the loaded dataset.\n", 
        "Note: the first time you load the dataset, Keras will automatically download a compressed\n", 
        "version of the images and save them under your home directory in \u223c/.keras/datasets/. The\n", 
        "download is fast as the dataset is only about 25 megabytes in its compressed form."
      ], 
      "cell_type": "markdown", 
      "metadata": {}
    }, 
    {
      "source": [
        "# example of loading the fashion_mnist dataset\n", 
        "from keras.datasets.fashion_mnist import load_data\n", 
        "# load the images into memory\n", 
        "(trainX, trainy), (testX, testy) = load_data()\n", 
        "# summarize the shape of the dataset\n", 
        "print('Train', trainX.shape, trainy.shape)\n", 
        "print('Test', testX.shape, testy.shape)"
      ], 
      "cell_type": "code", 
      "execution_count": null, 
      "outputs": [], 
      "metadata": {}
    }, 
    {
      "source": [
        "Running the example loads the dataset and prints the shape of the input and output\n", 
        "components of the train and test splits of images. We can see that there are 60K examples in\n", 
        "the training set and 10K in the test set and that each image is a square of 28 by 28 pixels."
      ], 
      "cell_type": "markdown", 
      "metadata": {}
    }
  ], 
  "metadata": {
    "kernelspec": {
      "display_name": "Python 3", 
      "name": "python3", 
      "language": "python"
    }, 
    "language_info": {
      "mimetype": "text/x-python", 
      "nbconvert_exporter": "python", 
      "name": "python", 
      "file_extension": ".py", 
      "version": "3.6.1", 
      "pygments_lexer": "ipython3", 
      "codemirror_mode": {
        "version": 3, 
        "name": "ipython"
      }
    }, 
    "anaconda-cloud": {}
  }
}