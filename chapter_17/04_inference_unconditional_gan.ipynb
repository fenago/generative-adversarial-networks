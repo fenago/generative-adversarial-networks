{
  "nbformat_minor": 1, 
  "nbformat": 4, 
  "cells": [
    {
      "source": [
        "# example of loading the generator model and generating images\n", 
        "from keras.models import load_model\n", 
        "from numpy.random import randn\n", 
        "%matplotlib notebook\n", 
        "from matplotlib import pyplot\n", 
        "\n", 
        "# generate points in latent space as input for the generator\n", 
        "def generate_latent_points(latent_dim, n_samples):\n", 
        "\t# generate points in the latent space\n", 
        "\tx_input = randn(latent_dim * n_samples)\n", 
        "\t# reshape into a batch of inputs for the network\n", 
        "\tx_input = x_input.reshape(n_samples, latent_dim)\n", 
        "\treturn x_input\n", 
        "\n", 
        "# create and save a plot of generated images (reversed grayscale)\n", 
        "def show_plot(examples, n):\n", 
        "\t# plot images\n", 
        "\tfor i in range(n * n):\n", 
        "\t\t# define subplot\n", 
        "\t\tpyplot.subplot(n, n, 1 + i)\n", 
        "\t\t# turn off axis\n", 
        "\t\tpyplot.axis('off')\n", 
        "\t\t# plot raw pixel data\n", 
        "\t\tpyplot.imshow(examples[i, :, :, 0], cmap='gray_r')\n", 
        "\tpyplot.show()\n", 
        "\n", 
        "# load model\n", 
        "model = load_model('generator.h5')\n", 
        "# generate images\n", 
        "latent_points = generate_latent_points(100, 100)\n", 
        "# generate images\n", 
        "X = model.predict(latent_points)\n", 
        "# plot the result\n", 
        "show_plot(X, 10)"
      ], 
      "cell_type": "code", 
      "execution_count": null, 
      "outputs": [], 
      "metadata": {}
    }
  ], 
  "metadata": {
    "kernelspec": {
      "display_name": "Python 3", 
      "name": "python3", 
      "language": "python"
    }, 
    "language_info": {
      "mimetype": "text/x-python", 
      "nbconvert_exporter": "python", 
      "name": "python", 
      "file_extension": ".py", 
      "version": "3.6.1", 
      "pygments_lexer": "ipython3", 
      "codemirror_mode": {
        "version": 3, 
        "name": "ipython"
      }
    }, 
    "anaconda-cloud": {}
  }
}