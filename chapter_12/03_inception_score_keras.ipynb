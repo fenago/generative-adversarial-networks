{
  "nbformat_minor": 1, 
  "nbformat": 4, 
  "cells": [
    {
      "source": [
        "# calculate inception score with Keras\n", 
        "from math import floor\n", 
        "from numpy import ones\n", 
        "from numpy import expand_dims\n", 
        "from numpy import log\n", 
        "from numpy import mean\n", 
        "from numpy import std\n", 
        "from numpy import exp\n", 
        "from keras.applications.inception_v3 import InceptionV3\n", 
        "from keras.applications.inception_v3 import preprocess_input\n", 
        "\n", 
        "# assumes images have the shape 299x299x3, pixels in [0,255]\n", 
        "def calculate_inception_score(images, n_split=10, eps=1E-16):\n", 
        "\t# load inception v3 model\n", 
        "\tmodel = InceptionV3()\n", 
        "\t# convert from uint8 to float32\n", 
        "\tprocessed = images.astype('float32')\n", 
        "\t# pre-process raw images for inception v3 model\n", 
        "\tprocessed = preprocess_input(processed)\n", 
        "\t# predict class probabilities for images\n", 
        "\tyhat = model.predict(processed)\n", 
        "\t# enumerate splits of images/predictions\n", 
        "\tscores = list()\n", 
        "\tn_part = floor(images.shape[0] / n_split)\n", 
        "\tfor i in range(n_split):\n", 
        "\t\t# retrieve p(y|x)\n", 
        "\t\tix_start, ix_end = i * n_part, i * n_part + n_part\n", 
        "\t\tp_yx = yhat[ix_start:ix_end]\n", 
        "\t\t# calculate p(y)\n", 
        "\t\tp_y = expand_dims(p_yx.mean(axis=0), 0)\n", 
        "\t\t# calculate KL divergence using log probabilities\n", 
        "\t\tkl_d = p_yx * (log(p_yx + eps) - log(p_y + eps))\n", 
        "\t\t# sum over classes\n", 
        "\t\tsum_kl_d = kl_d.sum(axis=1)\n", 
        "\t\t# average over images\n", 
        "\t\tavg_kl_d = mean(sum_kl_d)\n", 
        "\t\t# undo the log\n", 
        "\t\tis_score = exp(avg_kl_d)\n", 
        "\t\t# store\n", 
        "\t\tscores.append(is_score)\n", 
        "\t# average across images\n", 
        "\tis_avg, is_std = mean(scores), std(scores)\n", 
        "\treturn is_avg, is_std\n", 
        "\n", 
        "# pretend to load images\n", 
        "images = ones((50, 299, 299, 3))\n", 
        "print('loaded', images.shape)\n", 
        "# calculate inception score\n", 
        "is_avg, is_std = calculate_inception_score(images)\n", 
        "print('score', is_avg, is_std)"
      ], 
      "cell_type": "code", 
      "execution_count": null, 
      "outputs": [], 
      "metadata": {}
    }
  ], 
  "metadata": {
    "kernelspec": {
      "display_name": "Python 3", 
      "name": "python3", 
      "language": "python"
    }, 
    "language_info": {
      "mimetype": "text/x-python", 
      "nbconvert_exporter": "python", 
      "name": "python", 
      "file_extension": ".py", 
      "version": "3.6.1", 
      "pygments_lexer": "ipython3", 
      "codemirror_mode": {
        "version": 3, 
        "name": "ipython"
      }
    }, 
    "anaconda-cloud": {}
  }
}