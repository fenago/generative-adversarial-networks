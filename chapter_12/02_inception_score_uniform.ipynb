{
  "nbformat_minor": 1, 
  "nbformat": 4, 
  "cells": [
    {
      "source": [
        "# calculate inception score in numpy\n", 
        "from numpy import asarray\n", 
        "from numpy import expand_dims\n", 
        "from numpy import log\n", 
        "from numpy import mean\n", 
        "from numpy import exp\n", 
        "\n", 
        "# calculate the inception score for p(y|x)\n", 
        "def calculate_inception_score(p_yx, eps=1E-16):\n", 
        "\t# calculate p(y)\n", 
        "\tp_y = expand_dims(p_yx.mean(axis=0), 0)\n", 
        "\t# kl divergence for each image\n", 
        "\tkl_d = p_yx * (log(p_yx + eps) - log(p_y + eps))\n", 
        "\t# sum over classes\n", 
        "\tsum_kl_d = kl_d.sum(axis=1)\n", 
        "\t# average over images\n", 
        "\tavg_kl_d = mean(sum_kl_d)\n", 
        "\t# undo the logs\n", 
        "\tis_score = exp(avg_kl_d)\n", 
        "\treturn is_score\n", 
        "\n", 
        "# conditional probabilities for low quality images\n", 
        "p_yx = asarray([[0.5, 0.5, 0.5], [0.5, 0.5, 0.5], [0.5, 0.5, 0.5]])\n", 
        "score = calculate_inception_score(p_yx)\n", 
        "print(score)"
      ], 
      "cell_type": "code", 
      "execution_count": null, 
      "outputs": [], 
      "metadata": {}
    }
  ], 
  "metadata": {
    "kernelspec": {
      "display_name": "Python 3", 
      "name": "python3", 
      "language": "python"
    }, 
    "language_info": {
      "mimetype": "text/x-python", 
      "nbconvert_exporter": "python", 
      "name": "python", 
      "file_extension": ".py", 
      "version": "3.6.1", 
      "pygments_lexer": "ipython3", 
      "codemirror_mode": {
        "version": 3, 
        "name": "ipython"
      }
    }, 
    "anaconda-cloud": {}
  }
}