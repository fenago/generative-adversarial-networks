{
  "nbformat_minor": 1, 
  "nbformat": 4, 
  "cells": [
    {
      "source": [
        "# example of calculating the frechet inception distance\n", 
        "import numpy\n", 
        "from numpy import cov\n", 
        "from numpy import trace\n", 
        "from numpy import iscomplexobj\n", 
        "from numpy.random import random\n", 
        "from scipy.linalg import sqrtm\n", 
        "\n", 
        "import os\n", 
        "os.environ['TF_CPP_MIN_LOG_LEVEL'] = '3'\n", 
        "import warnings\n", 
        "warnings.simplefilter(\"ignore\")\n", 
        "\n", 
        "# calculate frechet inception distance\n", 
        "def calculate_fid(act1, act2):\n", 
        "\t# calculate mean and covariance statistics\n", 
        "\tmu1, sigma1 = act1.mean(axis=0), cov(act1, rowvar=False)\n", 
        "\tmu2, sigma2 = act2.mean(axis=0), cov(act2, rowvar=False)\n", 
        "\t# calculate sum squared difference between means\n", 
        "\tssdiff = numpy.sum((mu1 - mu2)**2.0)\n", 
        "\t# calculate sqrt of product between cov\n", 
        "\tcovmean = sqrtm(sigma1.dot(sigma2))\n", 
        "\t# check and correct imaginary numbers from sqrt\n", 
        "\tif iscomplexobj(covmean):\n", 
        "\t\tcovmean = covmean.real\n", 
        "\t# calculate score\n", 
        "\tfid = ssdiff + trace(sigma1 + sigma2 - 2.0 * covmean)\n", 
        "\treturn fid\n", 
        "\n", 
        "# define two collections of activations\n", 
        "act1 = random(10*2048)\n", 
        "act1 = act1.reshape((10,2048))\n", 
        "act2 = random(10*2048)\n", 
        "act2 = act2.reshape((10,2048))\n", 
        "# fid between act1 and act1\n", 
        "fid = calculate_fid(act1, act1)\n", 
        "print('FID (same): %.3f' % fid)\n", 
        "# fid between act1 and act2\n", 
        "fid = calculate_fid(act1, act2)\n", 
        "print('FID (different): %.3f' % fid)"
      ], 
      "cell_type": "code", 
      "execution_count": null, 
      "outputs": [], 
      "metadata": {}
    }
  ], 
  "metadata": {
    "kernelspec": {
      "display_name": "Python 3", 
      "name": "python3", 
      "language": "python"
    }, 
    "language_info": {
      "mimetype": "text/x-python", 
      "nbconvert_exporter": "python", 
      "name": "python", 
      "file_extension": ".py", 
      "version": "3.6.1", 
      "pygments_lexer": "ipython3", 
      "codemirror_mode": {
        "version": 3, 
        "name": "ipython"
      }
    }, 
    "anaconda-cloud": {}
  }
}