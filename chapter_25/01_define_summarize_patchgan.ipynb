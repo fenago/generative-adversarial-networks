{
  "nbformat_minor": 1, 
  "nbformat": 4, 
  "cells": [
    {
      "source": [
        "# example of defining a 70x70 patchgan discriminator model\n", 
        "from keras.optimizers import Adam\n", 
        "from keras.initializers import RandomNormal\n", 
        "from keras.models import Model\n", 
        "from keras.models import Input\n", 
        "from keras.layers import Conv2D\n", 
        "from keras.layers import LeakyReLU\n", 
        "from keras_contrib.layers.normalization.instancenormalization import InstanceNormalization\n", 
        "from keras.utils.vis_utils import plot_model\n", 
        "\n", 
        "# define the discriminator model\n", 
        "def define_discriminator(image_shape):\n", 
        "\t# weight initialization\n", 
        "\tinit = RandomNormal(stddev=0.02)\n", 
        "\t# source image input\n", 
        "\tin_image = Input(shape=image_shape)\n", 
        "\t# C64\n", 
        "\td = Conv2D(64, (4,4), strides=(2,2), padding='same', kernel_initializer=init)(in_image)\n", 
        "\td = LeakyReLU(alpha=0.2)(d)\n", 
        "\t# C128\n", 
        "\td = Conv2D(128, (4,4), strides=(2,2), padding='same', kernel_initializer=init)(d)\n", 
        "\td = InstanceNormalization(axis=-1)(d)\n", 
        "\td = LeakyReLU(alpha=0.2)(d)\n", 
        "\t# C256\n", 
        "\td = Conv2D(256, (4,4), strides=(2,2), padding='same', kernel_initializer=init)(d)\n", 
        "\td = InstanceNormalization(axis=-1)(d)\n", 
        "\td = LeakyReLU(alpha=0.2)(d)\n", 
        "\t# C512\n", 
        "\td = Conv2D(512, (4,4), strides=(2,2), padding='same', kernel_initializer=init)(d)\n", 
        "\td = InstanceNormalization(axis=-1)(d)\n", 
        "\td = LeakyReLU(alpha=0.2)(d)\n", 
        "\t# second last output layer\n", 
        "\td = Conv2D(512, (4,4), padding='same', kernel_initializer=init)(d)\n", 
        "\td = InstanceNormalization(axis=-1)(d)\n", 
        "\td = LeakyReLU(alpha=0.2)(d)\n", 
        "\t# patch output\n", 
        "\tpatch_out = Conv2D(1, (4,4), padding='same', kernel_initializer=init)(d)\n", 
        "\t# define model\n", 
        "\tmodel = Model(in_image, patch_out)\n", 
        "\t# compile model\n", 
        "\tmodel.compile(loss='mse', optimizer=Adam(lr=0.0002, beta_1=0.5), loss_weights=[0.5])\n", 
        "\treturn model\n", 
        "\n", 
        "# define image shape\n", 
        "image_shape = (256,256,3)\n", 
        "# create the model\n", 
        "model = define_discriminator(image_shape)\n", 
        "# summarize the model\n", 
        "model.summary()\n", 
        "# plot the model\n", 
        "plot_model(model, to_file='discriminator_model_plot.png', show_shapes=True, show_layer_names=True)"
      ], 
      "cell_type": "code", 
      "execution_count": null, 
      "outputs": [], 
      "metadata": {}
    }, 
    {
      "source": [
        "from PIL import Image\n", 
        "from IPython.display import display # to display images\n", 
        "\n", 
        "image = Image.open('discriminator_model_plot.png')\n", 
        "display(image)"
      ], 
      "cell_type": "code", 
      "execution_count": null, 
      "outputs": [], 
      "metadata": {}
    }
  ], 
  "metadata": {
    "kernelspec": {
      "display_name": "Python 3", 
      "name": "python3", 
      "language": "python"
    }, 
    "language_info": {
      "mimetype": "text/x-python", 
      "nbconvert_exporter": "python", 
      "name": "python", 
      "file_extension": ".py", 
      "version": "3.6.1", 
      "pygments_lexer": "ipython3", 
      "codemirror_mode": {
        "version": 3, 
        "name": "ipython"
      }
    }, 
    "anaconda-cloud": {}
  }
}