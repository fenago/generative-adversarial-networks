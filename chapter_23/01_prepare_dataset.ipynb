{
  "nbformat_minor": 1, 
  "nbformat": 4, 
  "cells": [
    {
      "source": [
        "## Satellite to Map Image Translation Dataset\n", 
        "In this tutorial, we will use the so-called maps dataset used in the Pix2Pix paper. This is a\n", 
        "dataset comprised of satellite images of New York and their corresponding Google maps pages.\n", 
        "The image translation problem involves converting satellite photos to Google maps format, or\n", 
        "the reverse, Google maps images to Satellite photos. The dataset is provided on the Pix2Pix\n", 
        "website and can be downloaded as a 255-megabyte zip file.\n", 
        "\n", 
        "You will a directory called maps/ with the following structure:\n", 
        "\n", 
        "maps\n", 
        " - train\n", 
        " - val\n", 
        "\n", 
        "The train folder contains 1,097 images, whereas the validation dataset contains 1,099 images.\n", 
        "Images have a digit filename and are in JPEG format. Each image is 1,200 pixels wide and 600\n", 
        "pixels tall and contains both the satellite image on the left and the Google maps image on the\n", 
        "right."
      ], 
      "cell_type": "markdown", 
      "metadata": {}
    }, 
    {
      "source": [
        "We can prepare this dataset for training a Pix2Pix GAN model in Keras. We will just work\n", 
        "with the images in the training dataset. Each image will be loaded, rescaled, and split into\n", 
        "the satellite and Google Maps elements. The result will be 1,097 color image pairs with the\n", 
        "width and height of 256 \u00d7 256 pixels. The load images() function below implements this. It\n", 
        "enumerates the list of images in a given directory, loads each with the target size of 256 \u00d7 512\n", 
        "pixels, splits each image into satellite and map elements and returns an array of each."
      ], 
      "cell_type": "markdown", 
      "metadata": {}
    }, 
    {
      "source": [
        "# load, split and scale the maps dataset ready for training\n", 
        "from os import listdir\n", 
        "from numpy import asarray\n", 
        "from keras.preprocessing.image import img_to_array\n", 
        "from keras.preprocessing.image import load_img\n", 
        "from numpy import savez_compressed\n", 
        "\n", 
        "# load all images in a directory into memory\n", 
        "def load_images(path, size=(256,512)):\n", 
        "\tsrc_list, tar_list = list(), list()\n", 
        "\t# enumerate filenames in directory, assume all are images\n", 
        "\tfor filename in listdir(path):\n", 
        "\t\t# load and resize the image\n", 
        "\t\tpixels = load_img(path + filename, target_size=size)\n", 
        "\t\t# convert to numpy array\n", 
        "\t\tpixels = img_to_array(pixels)\n", 
        "\t\t# split into satellite and map\n", 
        "\t\tsat_img, map_img = pixels[:, :256], pixels[:, 256:]\n", 
        "\t\tsrc_list.append(sat_img)\n", 
        "\t\ttar_list.append(map_img)\n", 
        "\treturn [asarray(src_list), asarray(tar_list)]\n", 
        "\n", 
        "# dataset path\n", 
        "path = 'maps/train/'\n", 
        "# load dataset\n", 
        "[src_images, tar_images] = load_images(path)\n", 
        "print('Loaded: ', src_images.shape, tar_images.shape)\n", 
        "# save as compressed numpy array\n", 
        "filename = 'maps__256.npz'\n", 
        "savez_compressed(filename, src_images, tar_images)\n", 
        "print('Saved dataset: ', filename)\n"
      ], 
      "cell_type": "code", 
      "execution_count": null, 
      "outputs": [], 
      "metadata": {}
    }, 
    {
      "source": [
        "Running the example loads all images in the training dataset, summarizes their shape to\n", 
        "ensure the images were loaded correctly, then saves the arrays to a new file called maps 256.npz\n", 
        "in compressed NumPy array format.\n", 
        "\n", 
        "Loaded: (1096, 256, 256, 3) (1096, 256, 256, 3)\n", 
        "Saved dataset: maps_256.npz\n", 
        "\n", 
        "This file can be loaded later via the load() NumPy function and retrieving each array in\n", 
        "turn. We can then plot some images pairs to confirm the data has been handled correctly."
      ], 
      "cell_type": "markdown", 
      "metadata": {}
    }
  ], 
  "metadata": {
    "kernelspec": {
      "display_name": "Python 3", 
      "name": "python3", 
      "language": "python"
    }, 
    "language_info": {
      "mimetype": "text/x-python", 
      "nbconvert_exporter": "python", 
      "name": "python", 
      "file_extension": ".py", 
      "version": "3.6.1", 
      "pygments_lexer": "ipython3", 
      "codemirror_mode": {
        "version": 3, 
        "name": "ipython"
      }
    }, 
    "anaconda-cloud": {}
  }
}