{
  "nbformat_minor": 1, 
  "nbformat": 4, 
  "cells": [
    {
      "source": [
        "# example of loading a pix2pix model and using it for one-off image translation\n", 
        "from keras.models import load_model\n", 
        "from keras.preprocessing.image import img_to_array\n", 
        "from keras.preprocessing.image import load_img\n", 
        "from numpy import expand_dims\n", 
        "%matplotlib notebook\n", 
        "from matplotlib import pyplot\n", 
        "\n", 
        "# load an image\n", 
        "def load_image(filename, size=(256,256)):\n", 
        "\t# load image with the preferred size\n", 
        "\tpixels = load_img(filename, target_size=size)\n", 
        "\t# convert to numpy array\n", 
        "\tpixels = img_to_array(pixels)\n", 
        "\t# scale from [0,255] to [-1,1]\n", 
        "\tpixels = (pixels - 127.5) / 127.5\n", 
        "\t# reshape to 1 sample\n", 
        "\tpixels = expand_dims(pixels, 0)\n", 
        "\treturn pixels\n", 
        "\n", 
        "# load source image\n", 
        "src_image = load_image('satellite.jpg')\n", 
        "print('Loaded', src_image.shape)\n", 
        "# load model\n", 
        "model = load_model('model_109600.h5')\n", 
        "# generate image from source\n", 
        "gen_image = model.predict(src_image)\n", 
        "# scale from [-1,1] to [0,1]\n", 
        "gen_image = (gen_image + 1) / 2.0\n", 
        "# plot the image\n", 
        "pyplot.imshow(gen_image[0])\n", 
        "pyplot.axis('off')\n", 
        "pyplot.show()"
      ], 
      "cell_type": "code", 
      "execution_count": null, 
      "outputs": [], 
      "metadata": {}
    }
  ], 
  "metadata": {
    "kernelspec": {
      "display_name": "Python 3", 
      "name": "python3", 
      "language": "python"
    }, 
    "language_info": {
      "mimetype": "text/x-python", 
      "nbconvert_exporter": "python", 
      "name": "python", 
      "file_extension": ".py", 
      "version": "3.6.1", 
      "pygments_lexer": "ipython3", 
      "codemirror_mode": {
        "version": 3, 
        "name": "ipython"
      }
    }, 
    "anaconda-cloud": {}
  }
}