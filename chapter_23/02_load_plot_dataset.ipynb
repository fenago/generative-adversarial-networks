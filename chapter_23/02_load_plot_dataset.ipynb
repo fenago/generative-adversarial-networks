{
  "nbformat_minor": 1, 
  "nbformat": 4, 
  "cells": [
    {
      "source": [
        "# load the prepared dataset\n", 
        "from numpy import load\n", 
        "%matplotlib notebook\n", 
        "from matplotlib import pyplot\n", 
        "# load the face dataset\n", 
        "data = load('maps_256.npz')\n", 
        "src_images, tar_images = data['arr_0'], data['arr_1']\n", 
        "print('Loaded: ', src_images.shape, tar_images.shape)\n", 
        "# plot source images\n", 
        "n_samples = 3\n", 
        "for i in range(n_samples):\n", 
        "\tpyplot.subplot(2, n_samples, 1 + i)\n", 
        "\tpyplot.axis('off')\n", 
        "\tpyplot.imshow(src_images[i].astype('uint8'))\n", 
        "# plot target image\n", 
        "for i in range(n_samples):\n", 
        "\tpyplot.subplot(2, n_samples, 1 + n_samples + i)\n", 
        "\tpyplot.axis('off')\n", 
        "\tpyplot.imshow(tar_images[i].astype('uint8'))\n", 
        "pyplot.show()"
      ], 
      "cell_type": "code", 
      "execution_count": null, 
      "outputs": [], 
      "metadata": {}
    }
  ], 
  "metadata": {
    "kernelspec": {
      "display_name": "Python 3", 
      "name": "python3", 
      "language": "python"
    }, 
    "language_info": {
      "mimetype": "text/x-python", 
      "nbconvert_exporter": "python", 
      "name": "python", 
      "file_extension": ".py", 
      "version": "3.6.1", 
      "pygments_lexer": "ipython3", 
      "codemirror_mode": {
        "version": 3, 
        "name": "ipython"
      }
    }, 
    "anaconda-cloud": {}
  }
}