{
  "nbformat_minor": 1, 
  "nbformat": 4, 
  "cells": [
    {
      "source": [
        "# example of loading the generator model and generating images\n", 
        "from math import sqrt\n", 
        "from numpy import asarray\n", 
        "from numpy.random import randn\n", 
        "from keras.models import load_model\n", 
        "%matplotlib notebook\n", 
        "from matplotlib import pyplot\n", 
        "\n", 
        "# generate points in latent space as input for the generator\n", 
        "def generate_latent_points(latent_dim, n_samples, n_class):\n", 
        "\t# generate points in the latent space\n", 
        "\tx_input = randn(latent_dim * n_samples)\n", 
        "\t# reshape into a batch of inputs for the network\n", 
        "\tz_input = x_input.reshape(n_samples, latent_dim)\n", 
        "\t# generate labels\n", 
        "\tlabels = asarray([n_class for _ in range(n_samples)])\n", 
        "\treturn [z_input, labels]\n", 
        "\n", 
        "# create and save a plot of generated images\n", 
        "def save_plot(examples, n_examples):\n", 
        "\t# plot images\n", 
        "\tfor i in range(n_examples):\n", 
        "\t\t# define subplot\n", 
        "\t\tpyplot.subplot(sqrt(n_examples), sqrt(n_examples), 1 + i)\n", 
        "\t\t# turn off axis\n", 
        "\t\tpyplot.axis('off')\n", 
        "\t\t# plot raw pixel data\n", 
        "\t\tpyplot.imshow(examples[i, :, :, 0], cmap='gray_r')\n", 
        "\tpyplot.show()\n", 
        "\n", 
        "# load model\n", 
        "model = load_model('model_93700.h5')\n", 
        "latent_dim = 100\n", 
        "n_examples = 100 # must be a square\n", 
        "n_class = 7 # sneaker\n", 
        "# generate images\n", 
        "latent_points, labels = generate_latent_points(latent_dim, n_examples, n_class)\n", 
        "# generate images\n", 
        "X  = model.predict([latent_points, labels])\n", 
        "# scale from [-1,1] to [0,1]\n", 
        "X = (X + 1) / 2.0\n", 
        "# plot the result\n", 
        "save_plot(X, n_examples)"
      ], 
      "cell_type": "code", 
      "execution_count": null, 
      "outputs": [], 
      "metadata": {}
    }
  ], 
  "metadata": {
    "kernelspec": {
      "display_name": "Python 3", 
      "name": "python3", 
      "language": "python"
    }, 
    "language_info": {
      "mimetype": "text/x-python", 
      "nbconvert_exporter": "python", 
      "name": "python", 
      "file_extension": ".py", 
      "version": "3.6.1", 
      "pygments_lexer": "ipython3", 
      "codemirror_mode": {
        "version": 3, 
        "name": "ipython"
      }
    }, 
    "anaconda-cloud": {}
  }
}