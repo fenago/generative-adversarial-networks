{
  "nbformat_minor": 1, 
  "nbformat": 4, 
  "cells": [
    {
      "source": [
        "## AC-GAN Generator Model\n", 
        "The generator model must take a random point from the latent space as input, and the class\n", 
        "label, then output a generated grayscale image with the shape 28 \u00d7 28 \u00d7 1. The AC-GAN paper\n", 
        "describes the AC-GAN generator model taking a vector input that is a concatenation of the\n", 
        "point in latent space (100 dimensions) and the one hot encoded class label (10 dimensions)\n", 
        "that is 110 dimensions. An alternative approach that has proven effective and is now generally\n", 
        "recommended is to interpret the class label as an additional channel or feature map early in the\n", 
        "generator model. This can be achieved by using a learned embedding with an arbitrary number\n", 
        "of dimensions (e.g. 50), the output of which can be interpreted by a fully connected layer with\n", 
        "a linear activation resulting in one additional 7 \u00d7 7 feature map."
      ], 
      "cell_type": "markdown", 
      "metadata": {}
    }, 
    {
      "source": [
        "# example of defining the generator model\n", 
        "from keras.models import Model\n", 
        "from keras.layers import Input\n", 
        "from keras.layers import Dense\n", 
        "from keras.layers import Reshape\n", 
        "from keras.layers import Conv2DTranspose\n", 
        "from keras.layers import Embedding\n", 
        "from keras.layers import Concatenate\n", 
        "from keras.layers import Activation\n", 
        "from keras.layers import BatchNormalization\n", 
        "from keras.initializers import RandomNormal\n", 
        "from keras.utils.vis_utils import plot_model\n", 
        "\n", 
        "# define the standalone generator model\n", 
        "def define_generator(latent_dim, n_classes=10):\n", 
        "\t# weight initialization\n", 
        "\tinit = RandomNormal(stddev=0.02)\n", 
        "\t# label input\n", 
        "\tin_label = Input(shape=(1,))\n", 
        "\t# embedding for categorical input\n", 
        "\tli = Embedding(n_classes, 50)(in_label)\n", 
        "\t# linear multiplication\n", 
        "\tn_nodes = 7 * 7\n", 
        "\tli = Dense(n_nodes, kernel_initializer=init)(li)\n", 
        "\t# reshape to additional channel\n", 
        "\tli = Reshape((7, 7, 1))(li)\n", 
        "\t# image generator input\n", 
        "\tin_lat = Input(shape=(latent_dim,))\n", 
        "\t# foundation for 7x7 image\n", 
        "\tn_nodes = 384 * 7 * 7\n", 
        "\tgen = Dense(n_nodes, kernel_initializer=init)(in_lat)\n", 
        "\tgen = Activation('relu')(gen)\n", 
        "\tgen = Reshape((7, 7, 384))(gen)\n", 
        "\t# merge image gen and label input\n", 
        "\tmerge = Concatenate()([gen, li])\n", 
        "\t# upsample to 14x14\n", 
        "\tgen = Conv2DTranspose(192, (5,5), strides=(2,2), padding='same', kernel_initializer=init)(merge)\n", 
        "\tgen = BatchNormalization()(gen)\n", 
        "\tgen = Activation('relu')(gen)\n", 
        "\t# upsample to 28x28\n", 
        "\tgen = Conv2DTranspose(1, (5,5), strides=(2,2), padding='same', kernel_initializer=init)(gen)\n", 
        "\tout_layer = Activation('tanh')(gen)\n", 
        "\t# define model\n", 
        "\tmodel = Model([in_lat, in_label], out_layer)\n", 
        "\treturn model\n", 
        "\n", 
        "# define the size of the latent space\n", 
        "latent_dim = 100\n", 
        "# define the generator model\n", 
        "model = define_generator(latent_dim)\n", 
        "# summarize the model\n", 
        "model.summary()\n", 
        "# plot the model\n", 
        "plot_model(model, to_file='generator_plot.png', show_shapes=True, show_layer_names=True)"
      ], 
      "cell_type": "code", 
      "execution_count": null, 
      "outputs": [], 
      "metadata": {}
    }, 
    {
      "source": [
        "from PIL import Image\n", 
        "from IPython.display import display # to display images\n", 
        "\n", 
        "image = Image.open('generator_plot.png')\n", 
        "display(image)"
      ], 
      "cell_type": "code", 
      "execution_count": null, 
      "outputs": [], 
      "metadata": {}
    }
  ], 
  "metadata": {
    "kernelspec": {
      "display_name": "Python 3", 
      "name": "python3", 
      "language": "python"
    }, 
    "language_info": {
      "mimetype": "text/x-python", 
      "nbconvert_exporter": "python", 
      "name": "python", 
      "file_extension": ".py", 
      "version": "3.6.1", 
      "pygments_lexer": "ipython3", 
      "codemirror_mode": {
        "version": 3, 
        "name": "ipython"
      }
    }, 
    "anaconda-cloud": {}
  }
}