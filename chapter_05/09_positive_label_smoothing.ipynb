{
  "nbformat_minor": 1, 
  "nbformat": 4, 
  "cells": [
    {
      "source": [
        "## Use Label Smoothing\n", 
        "It is common to use the class label 1 to represent real images and class label 0 to represent fake\n", 
        "images when training the discriminator model. These are called hard labels, as the label values\n", 
        "are precise or crisp. It is a good practice to use soft labels, such as values slightly more or less\n", 
        "than 1.0 or slightly more than 0.0 for real and fake images respectively, where the variation for\n", 
        "each image is random. This is often referred to as label smoothing and can have a regularizing\n", 
        "effect when training the model. The example below demonstrates defining 1,000 labels for the\n", 
        "positive class (class = 1) and smoothing the label values uniformly into the range [0.7,1.2] as\n", 
        "recommended."
      ], 
      "cell_type": "markdown", 
      "metadata": {}
    }, 
    {
      "source": [
        "# example of positive label smoothing\n", 
        "from numpy import ones\n", 
        "from numpy.random import random\n", 
        "\n", 
        "# example of smoothing class=1 to [0.7, 1.2]\n", 
        "def smooth_positive_labels(y):\n", 
        "\treturn y - 0.3 + (random(y.shape) * 0.5)\n", 
        "\n", 
        "# generate 'real' class labels (1)\n", 
        "n_samples = 1000\n", 
        "y = ones((n_samples, 1))\n", 
        "# smooth labels\n", 
        "y = smooth_positive_labels(y)\n", 
        "# summarize smooth labels\n", 
        "print(y.shape, y.min(), y.max())"
      ], 
      "cell_type": "code", 
      "execution_count": null, 
      "outputs": [], 
      "metadata": {}
    }, 
    {
      "source": [
        "Running the example summarizes the min and max values for the smooth values, showing\n", 
        "they are close to the expected values.\n", 
        "\n", 
        "(1000, 1) 0.7003103006957805 1.1997858934066357"
      ], 
      "cell_type": "markdown", 
      "metadata": {}
    }
  ], 
  "metadata": {
    "kernelspec": {
      "display_name": "Python 3", 
      "name": "python3", 
      "language": "python"
    }, 
    "language_info": {
      "mimetype": "text/x-python", 
      "nbconvert_exporter": "python", 
      "name": "python", 
      "file_extension": ".py", 
      "version": "3.6.1", 
      "pygments_lexer": "ipython3", 
      "codemirror_mode": {
        "version": 3, 
        "name": "ipython"
      }
    }, 
    "anaconda-cloud": {}
  }
}