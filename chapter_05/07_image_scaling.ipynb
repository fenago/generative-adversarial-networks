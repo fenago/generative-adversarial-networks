{
  "nbformat_minor": 1, 
  "nbformat": 4, 
  "cells": [
    {
      "source": [
        "## Scale Images to the Range [-1,1]\n", 
        "It is recommended to use the hyperbolic tangent activation function as the output from the\n", 
        "generator model. As such, it is also recommended that real images used to train the discriminator\n", 
        "are scaled so that their pixel values are in the range [-1,1]. This is so that the discriminator\n", 
        "will always receive images as input, real and fake, that have pixel values in the same range.\n", 
        "Typically, image data is loaded as a NumPy array such that pixel values are 8-bit unsigned\n", 
        "integer (uint8) values in the range [0, 255]. First, the array must be converted to floating point\n", 
        "values, then rescaled to the required range. The example below provides a function that will\n", 
        "appropriately scale a NumPy array of loaded image data to the required range of [-1,1]."
      ], 
      "cell_type": "markdown", 
      "metadata": {}
    }, 
    {
      "source": [
        "# example of a function for scaling images\n", 
        "from numpy.random import randint\n", 
        "\n", 
        "# scale image data from [0,255] to [-1,1]\n", 
        "def scale_images(images):\n", 
        "\t# convert from unit8 to float32\n", 
        "\timages = images.astype('float32')\n", 
        "\t# scale from [0,255] to [-1,1]\n", 
        "\timages = (images - 127.5) / 127.5\n", 
        "\treturn images\n", 
        "\n", 
        "# define one 28x28 color image\n", 
        "images = randint(0, 256, 28 * 28 * 3)\n", 
        "images = images.reshape((1, 28, 28, 3))\n", 
        "# summarize pixel values\n", 
        "print(images.min(), images.max())\n", 
        "# scale\n", 
        "scaled = scale_images(images)\n", 
        "# summarize pixel scaled values\n", 
        "print(scaled.min(), scaled.max())"
      ], 
      "cell_type": "code", 
      "execution_count": null, 
      "outputs": [], 
      "metadata": {}
    }, 
    {
      "source": [
        "Running the example contrives a single color image with random pixel values in [0,255]. The\n", 
        "pixel values are then scaled to the range [-1,1] and the minimum and maximum pixel values are\n", 
        "then reported."
      ], 
      "cell_type": "markdown", 
      "metadata": {}
    }
  ], 
  "metadata": {
    "kernelspec": {
      "display_name": "Python 3", 
      "name": "python3", 
      "language": "python"
    }, 
    "language_info": {
      "mimetype": "text/x-python", 
      "nbconvert_exporter": "python", 
      "name": "python", 
      "file_extension": ".py", 
      "version": "3.6.1", 
      "pygments_lexer": "ipython3", 
      "codemirror_mode": {
        "version": 3, 
        "name": "ipython"
      }
    }, 
    "anaconda-cloud": {}
  }
}