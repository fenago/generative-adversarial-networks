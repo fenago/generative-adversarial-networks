{
  "nbformat_minor": 1, 
  "nbformat": 4, 
  "cells": [
    {
      "source": [
        "## Use Adam Stochastic Gradient Descent\n", 
        "Stochastic gradient descent, or SGD for short, is the standard algorithm used to optimize\n", 
        "the weights of convolutional neural network models. There are many variants of the training\n", 
        "algorithm. The best practice for training DCGAN models is to use the Adam version of\n", 
        "stochastic gradient descent with the learning rate lr of 0.0002 and the beta1 momentum value\n", 
        "of 0.5 instead of the default of 0.9. The Adam optimization algorithm with this configuration\n", 
        "is recommended when both optimizing the discriminator and generator models. The example\n", 
        "below demonstrates configuring the Adam stochastic gradient descent optimization algorithm\n", 
        "for training a discriminator model."
      ], 
      "cell_type": "markdown", 
      "metadata": {}
    }, 
    {
      "source": [
        "# example of using adam when training a discriminator model\n", 
        "from keras.models import Sequential\n", 
        "from keras.layers import Conv2D\n", 
        "from keras.optimizers import Adam\n", 
        "# define model\n", 
        "model = Sequential()\n", 
        "model.add(Conv2D(64, (3,3), strides=(2,2), padding='same', input_shape=(64,64,3)))\n", 
        "# compile model\n", 
        "opt = Adam(lr=0.0002, beta_1=0.5)\n", 
        "model.compile(loss='binary_crossentropy', optimizer=opt, metrics=['accuracy'])"
      ], 
      "cell_type": "code", 
      "execution_count": null, 
      "outputs": [], 
      "metadata": {}
    }
  ], 
  "metadata": {
    "kernelspec": {
      "display_name": "Python 3", 
      "name": "python3", 
      "language": "python"
    }, 
    "language_info": {
      "mimetype": "text/x-python", 
      "nbconvert_exporter": "python", 
      "name": "python", 
      "file_extension": ".py", 
      "version": "3.6.1", 
      "pygments_lexer": "ipython3", 
      "codemirror_mode": {
        "version": 3, 
        "name": "ipython"
      }
    }, 
    "anaconda-cloud": {}
  }
}