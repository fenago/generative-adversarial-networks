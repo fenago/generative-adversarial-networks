{
  "nbformat_minor": 1, 
  "nbformat": 4, 
  "cells": [
    {
      "source": [
        "## Use Batch Normalization\n", 
        "Batch normalization standardizes the activations from a prior layer to have a zero mean and\n", 
        "unit variance. This has the effect of stabilizing the training process. Batch normalization is used\n", 
        "after the activation of convolution and transpose convolutional layers in the discriminator and\n", 
        "generator models respectively. It is added to the model after the hidden layer, but before the\n", 
        "activation, such as LeakyReLU. The example below demonstrates adding a BatchNormalization\n", 
        "layer after a Conv2D layer in a discriminator model but before the activation."
      ], 
      "cell_type": "markdown", 
      "metadata": {}
    }, 
    {
      "source": [
        "# example of using batch norm in a discriminator model\n", 
        "from keras.models import Sequential\n", 
        "from keras.layers import Conv2D\n", 
        "from keras.layers import BatchNormalization\n", 
        "from keras.layers import LeakyReLU\n", 
        "# define model\n", 
        "model = Sequential()\n", 
        "model.add(Conv2D(64, (3,3), strides=(2,2), padding='same', input_shape=(64,64,3)))\n", 
        "model.add(BatchNormalization())\n", 
        "model.add(LeakyReLU(0.2))\n", 
        "# summarize model\n", 
        "model.summary()"
      ], 
      "cell_type": "code", 
      "execution_count": null, 
      "outputs": [], 
      "metadata": {}
    }, 
    {
      "source": [
        "Running the example shows the desired usage of batch norm between the outputs of the\n", 
        "convolutional layer and the activation function."
      ], 
      "cell_type": "markdown", 
      "metadata": {}
    }
  ], 
  "metadata": {
    "kernelspec": {
      "display_name": "Python 3", 
      "name": "python3", 
      "language": "python"
    }, 
    "language_info": {
      "mimetype": "text/x-python", 
      "nbconvert_exporter": "python", 
      "name": "python", 
      "file_extension": ".py", 
      "version": "3.6.1", 
      "pygments_lexer": "ipython3", 
      "codemirror_mode": {
        "version": 3, 
        "name": "ipython"
      }
    }, 
    "anaconda-cloud": {}
  }
}