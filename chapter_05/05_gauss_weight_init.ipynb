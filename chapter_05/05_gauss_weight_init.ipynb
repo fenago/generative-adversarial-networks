{
  "nbformat_minor": 1, 
  "nbformat": 4, 
  "cells": [
    {
      "source": [
        "## Use Gaussian Weight Initialization\n", 
        "Before a neural network can be trained, the model weights (parameters) must be initialized\n", 
        "to small random variables. The best practice for DCAGAN models reported in the paper is\n", 
        "to initialize all weights using a zero-centered Gaussian distribution (the normal or bell-shaped\n", 
        "distribution) with a standard deviation of 0.02. The example below demonstrates defining a\n", 
        "random Gaussian weight initializer with a mean of 0 and a standard deviation of 0.02 for use in\n", 
        "a transpose convolutional layer in a generator model. The same weight initializer instance could\n", 
        "be used for each layer in a given model."
      ], 
      "cell_type": "markdown", 
      "metadata": {}
    }, 
    {
      "source": [
        "# example of gaussian weight initialization in a generator model\n", 
        "from keras.models import Sequential\n", 
        "from keras.layers import Conv2DTranspose\n", 
        "from keras.initializers import RandomNormal\n", 
        "# define model\n", 
        "model = Sequential()\n", 
        "init = RandomNormal(mean=0.0, stddev=0.02)\n", 
        "model.add(Conv2DTranspose(64, (4,4), strides=(2,2), padding='same', kernel_initializer=init, input_shape=(64,64,3)))"
      ], 
      "cell_type": "code", 
      "execution_count": null, 
      "outputs": [], 
      "metadata": {}
    }
  ], 
  "metadata": {
    "kernelspec": {
      "display_name": "Python 3", 
      "name": "python3", 
      "language": "python"
    }, 
    "language_info": {
      "mimetype": "text/x-python", 
      "nbconvert_exporter": "python", 
      "name": "python", 
      "file_extension": ".py", 
      "version": "3.6.1", 
      "pygments_lexer": "ipython3", 
      "codemirror_mode": {
        "version": 3, 
        "name": "ipython"
      }
    }, 
    "anaconda-cloud": {}
  }
}