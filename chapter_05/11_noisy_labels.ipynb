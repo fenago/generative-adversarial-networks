{
  "nbformat_minor": 1, 
  "nbformat": 4, 
  "cells": [
    {
      "source": [
        "## Use Noisy Labels\n", 
        "The labels used when training the discriminator model are always correct. This means that fake\n", 
        "images are always labeled with class 0 and real images are always labeled with class 1. It is\n", 
        "recommended to introduce some errors to these labels where some fake images are marked as\n", 
        "real, and some real images are marked as fake. If you are using separate batches to update the\n", 
        "discriminator for real and fake images, this may mean randomly adding some fake images to the\n", 
        "batch of real images, or randomly adding some real images to the batch of fake images. If you\n", 
        "are updating the discriminator with a combined batch of real and fake images, then this may\n", 
        "involve randomly flipping the labels on some images. The example below demonstrates this by\n", 
        "creating 1,000 samples of real (class = 1) labels and flipping them with a 5% probability, then\n", 
        "doing the same with 1,000 samples of fake (class = 0) labels."
      ], 
      "cell_type": "markdown", 
      "metadata": {}
    }, 
    {
      "source": [
        "# example of noisy labels\n", 
        "from numpy import ones\n", 
        "from numpy import zeros\n", 
        "from numpy.random import choice\n", 
        "\n", 
        "# randomly flip some labels\n", 
        "def noisy_labels(y, p_flip):\n", 
        "\t# determine the number of labels to flip\n", 
        "\tn_select = int(p_flip * y.shape[0])\n", 
        "\t# choose labels to flip\n", 
        "\tflip_ix = choice([i for i in range(y.shape[0])], size=n_select)\n", 
        "\t# invert the labels in place\n", 
        "\ty[flip_ix] = 1 - y[flip_ix]\n", 
        "\treturn y\n", 
        "\n", 
        "# generate 'real' class labels (1)\n", 
        "n_samples = 1000\n", 
        "y = ones((n_samples, 1))\n", 
        "# flip labels with 5% probability\n", 
        "y = noisy_labels(y, 0.05)\n", 
        "# summarize labels\n", 
        "print(y.sum())\n", 
        "\n", 
        "# generate 'fake' class labels (0)\n", 
        "y = zeros((n_samples, 1))\n", 
        "# flip labels with 5% probability\n", 
        "y = noisy_labels(y, 0.05)\n", 
        "# summarize labels\n", 
        "print(y.sum())"
      ], 
      "cell_type": "code", 
      "execution_count": null, 
      "outputs": [], 
      "metadata": {}
    }, 
    {
      "source": [
        "Try running the example a few times. The results show that approximately 50 of the 1s are\n", 
        "flipped to 0s for the positive labels (e.g. 5% of 1,000) and approximately 50 0s are flopped to 1s\n", 
        "in for the negative labels.\n", 
        "\n", 
        "951.0\n", 
        "\n", 
        "49.0"
      ], 
      "cell_type": "markdown", 
      "metadata": {}
    }
  ], 
  "metadata": {
    "kernelspec": {
      "display_name": "Python 3", 
      "name": "python3", 
      "language": "python"
    }, 
    "language_info": {
      "mimetype": "text/x-python", 
      "nbconvert_exporter": "python", 
      "name": "python", 
      "file_extension": ".py", 
      "version": "3.6.1", 
      "pygments_lexer": "ipython3", 
      "codemirror_mode": {
        "version": 3, 
        "name": "ipython"
      }
    }, 
    "anaconda-cloud": {}
  }
}