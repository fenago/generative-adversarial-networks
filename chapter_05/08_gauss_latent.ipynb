{
  "nbformat_minor": 1, 
  "nbformat": 4, 
  "cells": [
    {
      "source": [
        "## Use a Gaussian Latent Space\n", 
        "The latent space defines the shape and distribution of the input to the generator model used\n", 
        "to generate new images. The DCGAN recommends sampling from a uniform distribution,\n", 
        "meaning that the shape of the latent space is a hypercube. The more recent best practice is\n", 
        "to sample from a standard Gaussian distribution, meaning that the shape of the latent space\n", 
        "is a hypersphere, with a mean of zero and a standard deviation of one. The example below\n", 
        "demonstrates how to generate 500 random Gaussian examples from a 100-dimensional latent\n", 
        "space that can be used as input to a generator model; each point could be used to generate an\n", 
        "image."
      ], 
      "cell_type": "markdown", 
      "metadata": {}
    }, 
    {
      "source": [
        "# example of sampling from a gaussian latent space\n", 
        "from numpy.random import randn\n", 
        "\n", 
        "# generate points in latent space as input for the generator\n", 
        "def generate_latent_points(latent_dim, n_samples):\n", 
        "\t# generate points in the latent space\n", 
        "\tx_input = randn(latent_dim * n_samples)\n", 
        "\t# reshape into a batch of inputs for the network\n", 
        "\tx_input = x_input.reshape((n_samples, latent_dim))\n", 
        "\treturn x_input\n", 
        "\n", 
        "# size of latent space\n", 
        "n_dim = 100\n", 
        "# number of samples to generate\n", 
        "n_samples = 500\n", 
        "# generate samples\n", 
        "samples = generate_latent_points(n_dim, n_samples)\n", 
        "# summarize\n", 
        "print(samples.shape, samples.mean(), samples.std())"
      ], 
      "cell_type": "code", 
      "execution_count": null, 
      "outputs": [], 
      "metadata": {}
    }, 
    {
      "source": [
        "Running the example summarizes the generation of 500 points, each comprised of 100 random\n", 
        "Gaussian values with a mean close to zero and a standard deviation close to 1, e.g. a standard\n", 
        "Gaussian distribution.\n", 
        "\n", 
        "(500, 100) -0.004791256735601787 0.9976912528950904"
      ], 
      "cell_type": "markdown", 
      "metadata": {}
    }
  ], 
  "metadata": {
    "kernelspec": {
      "display_name": "Python 3", 
      "name": "python3", 
      "language": "python"
    }, 
    "language_info": {
      "mimetype": "text/x-python", 
      "nbconvert_exporter": "python", 
      "name": "python", 
      "file_extension": ".py", 
      "version": "3.6.1", 
      "pygments_lexer": "ipython3", 
      "codemirror_mode": {
        "version": 3, 
        "name": "ipython"
      }
    }, 
    "anaconda-cloud": {}
  }
}