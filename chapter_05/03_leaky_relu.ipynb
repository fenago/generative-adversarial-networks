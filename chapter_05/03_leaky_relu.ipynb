{
  "nbformat_minor": 1, 
  "nbformat": 4, 
  "cells": [
    {
      "source": [
        "## Use Leaky ReLU\n", 
        "The rectified linear activation unit, or ReLU for short, is a simple calculation that returns the\n", 
        "value provided as input directly, or the value 0.0 if the input is 0.0 or less. It has become a best\n", 
        "practice when developing deep convolutional neural networks generally. The best practice for\n", 
        "GANs is to use a variation of the ReLU that allows some values less than zero and learns where\n", 
        "the cut-off should be in each node. This is called the leaky rectified linear activation unit, or\n", 
        "the LeakyReLU layer.\n", 
        "\n", 
        "A negative slope can be specified for the LeakyReLU and the default value of 0.2 is recommended. Originally, ReLU was recommend for use in the generator model and LeakyReLU was\n", 
        "recommended for use in the discriminator model, although more recently, the LeakyReLU may\n", 
        "be recommended in both models. The example below demonstrates using the LeakyReLU with\n", 
        "the default slope of 0.2 after a convolutional layer in a discriminator model."
      ], 
      "cell_type": "markdown", 
      "metadata": {}
    }, 
    {
      "source": [
        "# example of using leakyrelu in a discriminator model\n", 
        "from keras.models import Sequential\n", 
        "from keras.layers import Conv2D\n", 
        "from keras.layers import LeakyReLU\n", 
        "# define model\n", 
        "model = Sequential()\n", 
        "model.add(Conv2D(64, (3,3), strides=(2,2), padding='same', input_shape=(64,64,3)))\n", 
        "model.add(LeakyReLU(0.2))\n", 
        "# summarize model\n", 
        "model.summary()"
      ], 
      "cell_type": "code", 
      "execution_count": null, 
      "outputs": [], 
      "metadata": {}
    }, 
    {
      "source": [
        "Running the example demonstrates the structure of the model with a single convolutional\n", 
        "layer followed by the activation layer."
      ], 
      "cell_type": "markdown", 
      "metadata": {}
    }
  ], 
  "metadata": {
    "kernelspec": {
      "display_name": "Python 3", 
      "name": "python3", 
      "language": "python"
    }, 
    "language_info": {
      "mimetype": "text/x-python", 
      "nbconvert_exporter": "python", 
      "name": "python", 
      "file_extension": ".py", 
      "version": "3.6.1", 
      "pygments_lexer": "ipython3", 
      "codemirror_mode": {
        "version": 3, 
        "name": "ipython"
      }
    }, 
    "anaconda-cloud": {}
  }
}