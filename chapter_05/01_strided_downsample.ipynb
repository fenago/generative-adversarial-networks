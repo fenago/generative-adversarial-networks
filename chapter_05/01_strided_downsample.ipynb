{
  "nbformat_minor": 1, 
  "nbformat": 4, 
  "cells": [
    {
      "source": [
        "## Downsample Using Strided Convolutions\n", 
        "The discriminator model is a standard convolutional neural network model that takes an image\n", 
        "as input and must output a binary classification as to whether it is real or fake. It is standard\n", 
        "practice with deep convolutional networks to use pooling layers to downsample the input and\n", 
        "feature maps with the depth of the network. This is not recommended for the DCGAN, and\n", 
        "instead, they recommend downsampling using strided convolutions.\n", 
        "\n", 
        "This involves defining a convolutional layer as per normal, but instead of using the default\n", 
        "two-dimensional stride of (1,1) to change it to (2,2). This has the effect of downsampling the\n", 
        "input, specifically halving the width and height of the input, resulting in output feature maps with\n", 
        "one quarter the area. The example below demonstrates this with a single hidden convolutional\n", 
        "layer that uses downsampling strided convolutions by setting the strides argument to (2,2).\n", 
        "The effect is the model will downsample the input from 64 \u00d7 64 to 32 \u00d7 32."
      ], 
      "cell_type": "markdown", 
      "metadata": {}
    }, 
    {
      "source": [
        "# example of downsampling with strided convolutions\n", 
        "from keras.models import Sequential\n", 
        "from keras.layers import Conv2D\n", 
        "# define model\n", 
        "model = Sequential()\n", 
        "model.add(Conv2D(64, (3,3), strides=(2,2), padding='same', input_shape=(64,64,3)))\n", 
        "# summarize model\n", 
        "model.summary()"
      ], 
      "cell_type": "code", 
      "execution_count": null, 
      "outputs": [], 
      "metadata": {}
    }, 
    {
      "source": [
        "Running the example shows the shape of the output of the convolutional layer, where the\n", 
        "feature maps have one quarter of the area."
      ], 
      "cell_type": "markdown", 
      "metadata": {}
    }
  ], 
  "metadata": {
    "kernelspec": {
      "display_name": "Python 3", 
      "name": "python3", 
      "language": "python"
    }, 
    "language_info": {
      "mimetype": "text/x-python", 
      "nbconvert_exporter": "python", 
      "name": "python", 
      "file_extension": ".py", 
      "version": "3.6.1", 
      "pygments_lexer": "ipython3", 
      "codemirror_mode": {
        "version": 3, 
        "name": "ipython"
      }
    }, 
    "anaconda-cloud": {}
  }
}