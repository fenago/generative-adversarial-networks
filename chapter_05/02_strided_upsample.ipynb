{
  "nbformat_minor": 1, 
  "nbformat": 4, 
  "cells": [
    {
      "source": [
        "## Upsample Using Strided Convolutions\n", 
        "The generator model must generate an output image given a random point from the latent space\n", 
        "as input. The recommended approach for achieving this is to use a transpose convolutional\n", 
        "layer with a strided convolution. This is a special type of layer that performs the convolution\n", 
        "operation in reverse. Intuitively, this means that setting a stride of 2 \u00d7 2 will have the opposite\n", 
        "effect, upsampling the input instead of downsampling it in the case of a normal convolutional\n", 
        "layer.\n", 
        "\n", 
        "By stacking a transpose convolutional layer with strided convolutions, the generator model is\n", 
        "able to scale a given input to the desired output dimensions. The example below demonstrates\n", 
        "this with a single hidden transpose convolutional layer that uses upsampling strided convolutions\n", 
        "by setting the strides argument to (2,2). The effect is the model will upsample the input from\n", 
        "64 \u00d7 64 to 128 \u00d7 128."
      ], 
      "cell_type": "markdown", 
      "metadata": {}
    }, 
    {
      "source": [
        "# example of upsampling with strided convolutions\n", 
        "from keras.models import Sequential\n", 
        "from keras.layers import Conv2DTranspose\n", 
        "# define model\n", 
        "model = Sequential()\n", 
        "model.add(Conv2DTranspose(64, (4,4), strides=(2,2), padding='same', input_shape=(64,64,3)))\n", 
        "# summarize model\n", 
        "model.summary()"
      ], 
      "cell_type": "code", 
      "execution_count": null, 
      "outputs": [], 
      "metadata": {}
    }, 
    {
      "source": [
        "Running the example shows the shape of the output of the convolutional layer, where the\n", 
        "feature maps have quadruple the area."
      ], 
      "cell_type": "markdown", 
      "metadata": {}
    }
  ], 
  "metadata": {
    "kernelspec": {
      "display_name": "Python 3", 
      "name": "python3", 
      "language": "python"
    }, 
    "language_info": {
      "mimetype": "text/x-python", 
      "nbconvert_exporter": "python", 
      "name": "python", 
      "file_extension": ".py", 
      "version": "3.6.1", 
      "pygments_lexer": "ipython3", 
      "codemirror_mode": {
        "version": 3, 
        "name": "ipython"
      }
    }, 
    "anaconda-cloud": {}
  }
}