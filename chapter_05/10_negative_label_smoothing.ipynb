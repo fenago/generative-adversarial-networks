{
  "nbformat_minor": 1, 
  "nbformat": 4, 
  "cells": [
    {
      "source": [
        "## Use Label Smoothing (Negative)\n", 
        "There have been some suggestions that only positive-class label smoothing is required and\n", 
        "to values less than 1.0. Nevertheless, you can also smooth negative class labels. The example\n", 
        "below demonstrates generating 1,000 labels for the negative class (class = 0) and smoothing\n", 
        "the label values uniformly into the range [0.0, 0.3] as recommended."
      ], 
      "cell_type": "markdown", 
      "metadata": {}
    }, 
    {
      "source": [
        "# example of negative label smoothing\n", 
        "from numpy import zeros\n", 
        "from numpy.random import random\n", 
        "\n", 
        "# example of smoothing class=0 to [0.0, 0.3]\n", 
        "def smooth_negative_labels(y):\n", 
        "\treturn y + random(y.shape) * 0.3\n", 
        "\n", 
        "# generate 'fake' class labels (0)\n", 
        "n_samples = 1000\n", 
        "y = zeros((n_samples, 1))\n", 
        "# smooth labels\n", 
        "y = smooth_negative_labels(y)\n", 
        "# summarize smooth labels\n", 
        "print(y.shape, y.min(), y.max())"
      ], 
      "cell_type": "code", 
      "execution_count": null, 
      "outputs": [], 
      "metadata": {}
    }
  ], 
  "metadata": {
    "kernelspec": {
      "display_name": "Python 3", 
      "name": "python3", 
      "language": "python"
    }, 
    "language_info": {
      "mimetype": "text/x-python", 
      "nbconvert_exporter": "python", 
      "name": "python", 
      "file_extension": ".py", 
      "version": "3.6.1", 
      "pygments_lexer": "ipython3", 
      "codemirror_mode": {
        "version": 3, 
        "name": "ipython"
      }
    }, 
    "anaconda-cloud": {}
  }
}