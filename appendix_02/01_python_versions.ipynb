{
  "nbformat_minor": 1, 
  "nbformat": 4, 
  "cells": [
    {
      "source": [
        "# check library version numbers\n", 
        "# scipy\n", 
        "import scipy\n", 
        "print('scipy: %s' % scipy.__version__)\n", 
        "# numpy\n", 
        "import numpy\n", 
        "print('numpy: %s' % numpy.__version__)\n", 
        "# matplotlib\n", 
        "import matplotlib\n", 
        "print('matplotlib: %s' % matplotlib.__version__)\n", 
        "# pandas\n", 
        "import pandas\n", 
        "print('pandas: %s' % pandas.__version__)\n", 
        "# statsmodels\n", 
        "import statsmodels\n", 
        "print('statsmodels: %s' % statsmodels.__version__)\n", 
        "# scikit-learn\n", 
        "import sklearn\n", 
        "print('sklearn: %s' % sklearn.__version__)"
      ], 
      "cell_type": "code", 
      "execution_count": null, 
      "outputs": [], 
      "metadata": {}
    }
  ], 
  "metadata": {
    "kernelspec": {
      "display_name": "Python 3", 
      "name": "python3", 
      "language": "python"
    }, 
    "language_info": {
      "mimetype": "text/x-python", 
      "nbconvert_exporter": "python", 
      "name": "python", 
      "file_extension": ".py", 
      "version": "3.6.1", 
      "pygments_lexer": "ipython3", 
      "codemirror_mode": {
        "version": 3, 
        "name": "ipython"
      }
    }, 
    "anaconda-cloud": {}
  }
}