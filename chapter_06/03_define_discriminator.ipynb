{
  "nbformat_minor": 1, 
  "nbformat": 4, 
  "cells": [
    {
      "source": [
        "## Define a Discriminator Model\n", 
        "The next step is to define the discriminator model. The model must take a sample from our\n", 
        "problem, such as a vector with two elements, and output a classification prediction as to whether\n", 
        "the sample is real or fake. This is a binary classification problem.\n", 
        "\n", 
        "- Inputs: Sample with two real values.\n", 
        "- Outputs: Binary classification, likelihood the sample is real (or fake).\n", 
        "\n", 
        "The problem is very simple, meaning that we don\u2019t need a complex neural network to model\n", 
        "it. The discriminator model will have one hidden layer with 25 nodes and we will use the\n", 
        "ReLU activation function and an appropriate weight initialization method called He weight\n", 
        "initialization. The output layer will have one node for the binary classification using the sigmoid\n", 
        "activation function. The model will minimize the binary cross-entropy loss function, and the\n", 
        "Adam version of stochastic gradient descent will be used because it is very effective. The\n", 
        "define discriminator() function below defines and returns the discriminator model. The\n", 
        "function parameterizes the number of inputs to expect, which defaults to two."
      ], 
      "cell_type": "markdown", 
      "metadata": {}
    }, 
    {
      "source": [
        "# define the discriminator model\n", 
        "from keras.models import Sequential\n", 
        "from keras.layers import Dense\n", 
        "from keras.utils.vis_utils import plot_model\n", 
        "\n", 
        "# define the standalone discriminator model\n", 
        "def define_discriminator(n_inputs=2):\n", 
        "\tmodel = Sequential()\n", 
        "\tmodel.add(Dense(25, activation='relu', kernel_initializer='he_uniform', input_dim=n_inputs))\n", 
        "\tmodel.add(Dense(1, activation='sigmoid'))\n", 
        "\t# compile model\n", 
        "\tmodel.compile(loss='binary_crossentropy', optimizer='adam', metrics=['accuracy'])\n", 
        "\treturn model\n", 
        "\n", 
        "# define the discriminator model\n", 
        "model = define_discriminator()\n", 
        "# summarize the model\n", 
        "model.summary()\n", 
        "# plot the model\n", 
        "plot_model(model, to_file='discriminator_plot.png', show_shapes=True, show_layer_names=True)"
      ], 
      "cell_type": "code", 
      "execution_count": null, 
      "outputs": [], 
      "metadata": {}
    }, 
    {
      "source": [
        "from PIL import Image\n", 
        "from IPython.display import display # to display images\n", 
        "\n", 
        "image = Image.open('discriminator_plot.png')\n", 
        "display(image)"
      ], 
      "cell_type": "code", 
      "execution_count": null, 
      "outputs": [], 
      "metadata": {}
    }
  ], 
  "metadata": {
    "kernelspec": {
      "display_name": "Python 3", 
      "name": "python3", 
      "language": "python"
    }, 
    "language_info": {
      "mimetype": "text/x-python", 
      "nbconvert_exporter": "python", 
      "name": "python", 
      "file_extension": ".py", 
      "version": "3.6.1", 
      "pygments_lexer": "ipython3", 
      "codemirror_mode": {
        "version": 3, 
        "name": "ipython"
      }
    }, 
    "anaconda-cloud": {}
  }
}