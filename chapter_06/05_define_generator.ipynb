{
  "nbformat_minor": 1, 
  "nbformat": 4, 
  "cells": [
    {
      "source": [
        "## Define a Generator Model\n", 
        "The next step is to define the generator model. The generator model takes as input a point\n", 
        "from the latent space and generates a new sample, e.g. a vector with both the input and output6.4. Define a Generator Model 78\n", 
        "elements of our function, e.g. x and x2. A latent variable is a hidden or unobserved variable,\n", 
        "and a latent space is a multi-dimensional vector space of these variables. We can define the size\n", 
        "of the latent space for our problem and the shape or distribution of variables in the latent space.\n", 
        "This is because the latent space has no meaning until the generator model starts assigning\n", 
        "meaning to points in the space as it learns. After training, points in the latent space will\n", 
        "correspond to points in the output space, e.g. in the space of generated samples. We will define\n", 
        "a small latent space of five dimensions and use the standard approach in the GAN literature of\n", 
        "using a Gaussian distribution for each variable in the latent space. We will generate new inputs\n", 
        "by drawing random numbers from a standard Gaussian distribution, i.e. mean of zero and a\n", 
        "standard deviation of one.\n", 
        "\n", 
        "- Inputs: Point in latent space, e.g. a five-element vector of Gaussian random numbers.\n", 
        "- Outputs: Two-element vector representing a generated sample for our function (x and\n", 
        "x2).\n", 
        "\n", 
        "The generator model will be small like the discriminator model. It will have a single Dense\n", 
        "hidden layer with fifteen nodes and will use the ReLU activation function and He weight\n", 
        "initialization. The output layer will have two nodes for the two elements in a generated vector\n", 
        "and will use a linear activation function. A linear activation function is used because we know\n", 
        "we want the generator to output a vector of real values and the scale will be [-0.5, 0.5] for the\n", 
        "first element and about [0.0, 0.25] for the second element.\n", 
        "\n", 
        "The model is not compiled. The reason for this is that the generator model is not fit directly.\n", 
        "The define generator() function below defines and returns the generator model. The size of\n", 
        "the latent dimension is parameterized in case we want to play with it later, and the output\n", 
        "shape of the model is also parameterized, matching the function for defining the discriminator\n", 
        "model."
      ], 
      "cell_type": "markdown", 
      "metadata": {}
    }, 
    {
      "source": [
        "# define the generator model\n", 
        "from keras.models import Sequential\n", 
        "from keras.layers import Dense\n", 
        "from keras.utils.vis_utils import plot_model\n", 
        "\n", 
        "# define the standalone generator model\n", 
        "def define_generator(latent_dim, n_outputs=2):\n", 
        "\tmodel = Sequential()\n", 
        "\tmodel.add(Dense(15, activation='relu', kernel_initializer='he_uniform', input_dim=latent_dim))\n", 
        "\tmodel.add(Dense(n_outputs, activation='linear'))\n", 
        "\treturn model\n", 
        "\n", 
        "# define the discriminator model\n", 
        "model = define_generator(5)\n", 
        "# summarize the model\n", 
        "model.summary()\n", 
        "# plot the model\n", 
        "plot_model(model, to_file='generator_plot.png', show_shapes=True, show_layer_names=True)"
      ], 
      "cell_type": "code", 
      "execution_count": null, 
      "outputs": [], 
      "metadata": {}
    }, 
    {
      "source": [
        "from PIL import Image\n", 
        "from IPython.display import display # to display images\n", 
        "\n", 
        "image = Image.open('generator_plot.png')\n", 
        "display(image)"
      ], 
      "cell_type": "code", 
      "execution_count": null, 
      "outputs": [], 
      "metadata": {}
    }
  ], 
  "metadata": {
    "kernelspec": {
      "display_name": "Python 3", 
      "name": "python3", 
      "language": "python"
    }, 
    "language_info": {
      "mimetype": "text/x-python", 
      "nbconvert_exporter": "python", 
      "name": "python", 
      "file_extension": ".py", 
      "version": "3.6.1", 
      "pygments_lexer": "ipython3", 
      "codemirror_mode": {
        "version": 3, 
        "name": "ipython"
      }
    }, 
    "anaconda-cloud": {}
  }
}