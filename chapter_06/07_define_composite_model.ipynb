{
  "nbformat_minor": 1, 
  "nbformat": 4, 
  "cells": [
    {
      "source": [
        "# demonstrate creating the three models in the gan\n", 
        "from keras.models import Sequential\n", 
        "from keras.layers import Dense\n", 
        "from keras.utils.vis_utils import plot_model\n", 
        "\n", 
        "# define the standalone discriminator model\n", 
        "def define_discriminator(n_inputs=2):\n", 
        "\tmodel = Sequential()\n", 
        "\tmodel.add(Dense(25, activation='relu', kernel_initializer='he_uniform', input_dim=n_inputs))\n", 
        "\tmodel.add(Dense(1, activation='sigmoid'))\n", 
        "\t# compile model\n", 
        "\tmodel.compile(loss='binary_crossentropy', optimizer='adam', metrics=['accuracy'])\n", 
        "\treturn model\n", 
        "\n", 
        "# define the standalone generator model\n", 
        "def define_generator(latent_dim, n_outputs=2):\n", 
        "\tmodel = Sequential()\n", 
        "\tmodel.add(Dense(15, activation='relu', kernel_initializer='he_uniform', input_dim=latent_dim))\n", 
        "\tmodel.add(Dense(n_outputs, activation='linear'))\n", 
        "\treturn model\n", 
        "\n", 
        "# define the combined generator and discriminator model, for updating the generator\n", 
        "def define_gan(generator, discriminator):\n", 
        "\t# make weights in the discriminator not trainable\n", 
        "\tdiscriminator.trainable = False\n", 
        "\t# connect them\n", 
        "\tmodel = Sequential()\n", 
        "\t# add generator\n", 
        "\tmodel.add(generator)\n", 
        "\t# add the discriminator\n", 
        "\tmodel.add(discriminator)\n", 
        "\t# compile model\n", 
        "\tmodel.compile(loss='binary_crossentropy', optimizer='adam')\n", 
        "\treturn model\n", 
        "\n", 
        "# size of the latent space\n", 
        "latent_dim = 5\n", 
        "# create the discriminator\n", 
        "discriminator = define_discriminator()\n", 
        "# create the generator\n", 
        "generator = define_generator(latent_dim)\n", 
        "# create the gan\n", 
        "gan_model = define_gan(generator, discriminator)\n", 
        "# summarize gan model\n", 
        "gan_model.summary()\n", 
        "# plot gan model\n", 
        "plot_model(gan_model, to_file='gan_plot.png', show_shapes=True, show_layer_names=True)"
      ], 
      "cell_type": "code", 
      "execution_count": null, 
      "outputs": [], 
      "metadata": {}
    }, 
    {
      "source": [
        "from PIL import Image\n", 
        "from IPython.display import display # to display images\n", 
        "\n", 
        "image = Image.open('gan_plot.png')\n", 
        "display(image)"
      ], 
      "cell_type": "code", 
      "execution_count": null, 
      "outputs": [], 
      "metadata": {}
    }
  ], 
  "metadata": {
    "kernelspec": {
      "display_name": "Python 3", 
      "name": "python3", 
      "language": "python"
    }, 
    "language_info": {
      "mimetype": "text/x-python", 
      "nbconvert_exporter": "python", 
      "name": "python", 
      "file_extension": ".py", 
      "version": "3.6.1", 
      "pygments_lexer": "ipython3", 
      "codemirror_mode": {
        "version": 3, 
        "name": "ipython"
      }
    }, 
    "anaconda-cloud": {}
  }
}