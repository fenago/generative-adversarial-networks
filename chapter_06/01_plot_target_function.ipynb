{
  "nbformat_minor": 1, 
  "nbformat": 4, 
  "cells": [
    {
      "source": [
        "# demonstrate simple x^2 function\n", 
        "%matplotlib notebook\n", 
        "from matplotlib import pyplot\n", 
        "\n", 
        "# simple function\n", 
        "def calculate(x):\n", 
        "\treturn x * x\n", 
        "\n", 
        "# define inputs\n", 
        "inputs = [-0.5, -0.4, -0.3, -0.2, -0.1, 0, 0.1, 0.2, 0.3, 0.4, 0.5]\n", 
        "# calculate outputs\n", 
        "outputs = [calculate(x) for x in inputs]\n", 
        "# plot the result\n", 
        "pyplot.plot(inputs, outputs)\n", 
        "pyplot.show()"
      ], 
      "cell_type": "code", 
      "execution_count": null, 
      "outputs": [], 
      "metadata": {}
    }
  ], 
  "metadata": {
    "kernelspec": {
      "display_name": "Python 3", 
      "name": "python3", 
      "language": "python"
    }, 
    "language_info": {
      "mimetype": "text/x-python", 
      "nbconvert_exporter": "python", 
      "name": "python", 
      "file_extension": ".py", 
      "version": "3.6.1", 
      "pygments_lexer": "ipython3", 
      "codemirror_mode": {
        "version": 3, 
        "name": "ipython"
      }
    }, 
    "anaconda-cloud": {}
  }
}