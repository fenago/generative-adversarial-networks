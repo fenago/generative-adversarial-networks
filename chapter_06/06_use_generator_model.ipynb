{
  "nbformat_minor": 1, 
  "nbformat": 4, 
  "cells": [
    {
      "source": [
        "# define and use the generator model\n", 
        "from numpy.random import randn\n", 
        "from keras.models import Sequential\n", 
        "from keras.layers import Dense\n", 
        "%matplotlib notebook\n", 
        "from matplotlib import pyplot\n", 
        "\n", 
        "# define the standalone generator model\n", 
        "def define_generator(latent_dim, n_outputs=2):\n", 
        "\tmodel = Sequential()\n", 
        "\tmodel.add(Dense(15, activation='relu', kernel_initializer='he_uniform', input_dim=latent_dim))\n", 
        "\tmodel.add(Dense(n_outputs, activation='linear'))\n", 
        "\treturn model\n", 
        "\n", 
        "# generate points in latent space as input for the generator\n", 
        "def generate_latent_points(latent_dim, n):\n", 
        "\t# generate points in the latent space\n", 
        "\tx_input = randn(latent_dim * n)\n", 
        "\t# reshape into a batch of inputs for the network\n", 
        "\tx_input = x_input.reshape(n, latent_dim)\n", 
        "\treturn x_input\n", 
        "\n", 
        "# use the generator to generate n fake examples and plot the results\n", 
        "def generate_fake_samples(generator, latent_dim, n):\n", 
        "\t# generate points in latent space\n", 
        "\tx_input = generate_latent_points(latent_dim, n)\n", 
        "\t# predict outputs\n", 
        "\tX = generator.predict(x_input)\n", 
        "\t# plot the results\n", 
        "\tpyplot.scatter(X[:, 0], X[:, 1])\n", 
        "\tpyplot.show()\n", 
        "\n", 
        "# size of the latent space\n", 
        "latent_dim = 5\n", 
        "# define the discriminator model\n", 
        "model = define_generator(latent_dim)\n", 
        "# generate and plot generated samples\n", 
        "generate_fake_samples(model, latent_dim, 100)"
      ], 
      "cell_type": "code", 
      "execution_count": null, 
      "outputs": [], 
      "metadata": {}
    }
  ], 
  "metadata": {
    "kernelspec": {
      "display_name": "Python 3", 
      "name": "python3", 
      "language": "python"
    }, 
    "language_info": {
      "mimetype": "text/x-python", 
      "nbconvert_exporter": "python", 
      "name": "python", 
      "file_extension": ".py", 
      "version": "3.6.1", 
      "pygments_lexer": "ipython3", 
      "codemirror_mode": {
        "version": 3, 
        "name": "ipython"
      }
    }, 
    "anaconda-cloud": {}
  }
}