{
  "nbformat_minor": 1, 
  "nbformat": 4, 
  "cells": [
    {
      "source": [
        "# example of generating random samples from X^2\n", 
        "from numpy.random import rand\n", 
        "from numpy import hstack\n", 
        "%matplotlib notebook\n", 
        "from matplotlib import pyplot\n", 
        "\n", 
        "# generate randoms sample from x^2\n", 
        "def generate_samples(n=100):\n", 
        "\t# generate random inputs in [-0.5, 0.5]\n", 
        "\tX1 = rand(n) - 0.5\n", 
        "\t# generate outputs X^2 (quadratic)\n", 
        "\tX2 = X1 * X1\n", 
        "\t# stack arrays\n", 
        "\tX1 = X1.reshape(n, 1)\n", 
        "\tX2 = X2.reshape(n, 1)\n", 
        "\treturn hstack((X1, X2))\n", 
        "\n", 
        "# generate samples\n", 
        "data = generate_samples()\n", 
        "# plot samples\n", 
        "pyplot.scatter(data[:, 0], data[:, 1])\n", 
        "pyplot.show()"
      ], 
      "cell_type": "code", 
      "execution_count": null, 
      "outputs": [], 
      "metadata": {}
    }
  ], 
  "metadata": {
    "kernelspec": {
      "display_name": "Python 3", 
      "name": "python3", 
      "language": "python"
    }, 
    "language_info": {
      "mimetype": "text/x-python", 
      "nbconvert_exporter": "python", 
      "name": "python", 
      "file_extension": ".py", 
      "version": "3.6.1", 
      "pygments_lexer": "ipython3", 
      "codemirror_mode": {
        "version": 3, 
        "name": "ipython"
      }
    }, 
    "anaconda-cloud": {}
  }
}