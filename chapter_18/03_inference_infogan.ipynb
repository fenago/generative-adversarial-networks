{
  "nbformat_minor": 1, 
  "nbformat": 4, 
  "cells": [
    {
      "source": [
        "# example of loading the generator model and generating images\n", 
        "from math import sqrt\n", 
        "from numpy import hstack\n", 
        "from numpy.random import randn\n", 
        "from numpy.random import randint\n", 
        "from keras.models import load_model\n", 
        "from keras.utils import to_categorical\n", 
        "%matplotlib notebook\n", 
        "from matplotlib import pyplot\n", 
        "\n", 
        "# generate points in latent space as input for the generator\n", 
        "def generate_latent_points(latent_dim, n_cat, n_samples):\n", 
        "\t# generate points in the latent space\n", 
        "\tz_latent = randn(latent_dim * n_samples)\n", 
        "\t# reshape into a batch of inputs for the network\n", 
        "\tz_latent = z_latent.reshape(n_samples, latent_dim)\n", 
        "\t# generate categorical codes\n", 
        "\tcat_codes = randint(0, n_cat, n_samples)\n", 
        "\t# one hot encode\n", 
        "\tcat_codes = to_categorical(cat_codes, num_classes=n_cat)\n", 
        "\t# concatenate latent points and control codes\n", 
        "\tz_input = hstack((z_latent, cat_codes))\n", 
        "\treturn [z_input, cat_codes]\n", 
        "\n", 
        "# create a plot of generated images\n", 
        "def create_plot(examples, n_examples):\n", 
        "\t# plot images\n", 
        "\tfor i in range(n_examples):\n", 
        "\t\t# define subplot\n", 
        "\t\tpyplot.subplot(sqrt(n_examples), sqrt(n_examples), 1 + i)\n", 
        "\t\t# turn off axis\n", 
        "\t\tpyplot.axis('off')\n", 
        "\t\t# plot raw pixel data\n", 
        "\t\tpyplot.imshow(examples[i, :, :, 0], cmap='gray_r')\n", 
        "\tpyplot.show()\n", 
        "\n", 
        "# load model\n", 
        "model = load_model('model_93700.h5')\n", 
        "# number of values for the categorical control code\n", 
        "n_cat = 10\n", 
        "# size of the latent space\n", 
        "latent_dim = 62\n", 
        "# number of examples to generate\n", 
        "n_samples = 100\n", 
        "# generate points in latent space and control codes\n", 
        "z_input, _ = generate_latent_points(latent_dim, n_cat, n_samples)\n", 
        "# predict outputs\n", 
        "X = model.predict(z_input)\n", 
        "# scale from [-1,1] to [0,1]\n", 
        "X = (X + 1) / 2.0\n", 
        "# plot the result\n", 
        "create_plot(X, n_samples)"
      ], 
      "cell_type": "code", 
      "execution_count": null, 
      "outputs": [], 
      "metadata": {}
    }
  ], 
  "metadata": {
    "kernelspec": {
      "display_name": "Python 3", 
      "name": "python3", 
      "language": "python"
    }, 
    "language_info": {
      "mimetype": "text/x-python", 
      "nbconvert_exporter": "python", 
      "name": "python", 
      "file_extension": ".py", 
      "version": "3.6.1", 
      "pygments_lexer": "ipython3", 
      "codemirror_mode": {
        "version": 3, 
        "name": "ipython"
      }
    }, 
    "anaconda-cloud": {}
  }
}