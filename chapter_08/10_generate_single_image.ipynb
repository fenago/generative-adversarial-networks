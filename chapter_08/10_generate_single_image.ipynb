{
  "nbformat_minor": 1, 
  "nbformat": 4, 
  "cells": [
    {
      "source": [
        "# example of generating an image for a specific point in the latent space\n", 
        "from keras.models import load_model\n", 
        "from numpy import asarray\n", 
        "%matplotlib notebook\n", 
        "from matplotlib import pyplot\n", 
        "# load model\n", 
        "model = load_model('generator_model_200.h5')\n", 
        "# all 0s\n", 
        "vector = asarray([[0.75 for _ in range(100)]])\n", 
        "# generate image\n", 
        "X = model.predict(vector)\n", 
        "# scale from [-1,1] to [0,1]\n", 
        "X = (X + 1) / 2.0\n", 
        "# plot the result\n", 
        "pyplot.imshow(X[0, :, :])\n", 
        "pyplot.show()"
      ], 
      "cell_type": "code", 
      "execution_count": null, 
      "outputs": [], 
      "metadata": {}
    }
  ], 
  "metadata": {
    "kernelspec": {
      "display_name": "Python 3", 
      "name": "python3", 
      "language": "python"
    }, 
    "language_info": {
      "mimetype": "text/x-python", 
      "nbconvert_exporter": "python", 
      "name": "python", 
      "file_extension": ".py", 
      "version": "3.6.1", 
      "pygments_lexer": "ipython3", 
      "codemirror_mode": {
        "version": 3, 
        "name": "ipython"
      }
    }, 
    "anaconda-cloud": {}
  }
}