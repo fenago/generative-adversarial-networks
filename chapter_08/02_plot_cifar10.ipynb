{
  "nbformat_minor": 1, 
  "nbformat": 4, 
  "cells": [
    {
      "source": [
        "## CIFAR-10 Small Object Photograph Dataset\n", 
        "CIFAR is an acronym that stands for the Canadian Institute For Advanced Research and\n", 
        "the CIFAR-10 dataset was developed along with the CIFAR-100 dataset (covered in the next\n", 
        "section) by researchers at the CIFAR institute. The dataset is comprised of 60,000 32 \u00d7 32\n", 
        "pixel color photographs of objects from 10 classes, such as frogs, birds, cats, ships, airplanes,\n", 
        "etc. These are very small images, much smaller than a typical photograph, and the dataset\n", 
        "is intended for computer vision research. Keras provides access to the CIFAR-10 dataset via\n", 
        "the cifar10.load dataset() function. It returns two tuples, one with the input and output\n", 
        "elements for the standard training dataset, and another with the input and output elements for\n", 
        "the standard test dataset. The example below loads the dataset and summarizes the shape of\n", 
        "the loaded dataset.\n", 
        "\n", 
        "Note: the first time you load the dataset, Keras will automatically download a compressed\n", 
        "version of the images and save them under your home directory in \u223c/.keras/datasets/. The\n", 
        "download is fast as the dataset is only about 163 megabytes in its compressed form."
      ], 
      "cell_type": "markdown", 
      "metadata": {}
    }, 
    {
      "source": [
        "# example of loading and plotting the cifar10 dataset\n", 
        "from keras.datasets.cifar10 import load_data\n", 
        "%matplotlib notebook\n", 
        "from matplotlib import pyplot\n", 
        "# load the images into memory\n", 
        "(trainX, trainy), (testX, testy) = load_data()\n", 
        "# plot images from the training dataset\n", 
        "for i in range(49):\n", 
        "\t# define subplot\n", 
        "\tpyplot.subplot(7, 7, 1 + i)\n", 
        "\t# turn off axis\n", 
        "\tpyplot.axis('off')\n", 
        "\t# plot raw pixel data\n", 
        "\tpyplot.imshow(trainX[i])\n", 
        "pyplot.show()"
      ], 
      "cell_type": "code", 
      "execution_count": null, 
      "outputs": [], 
      "metadata": {}
    }, 
    {
      "source": [
        "Running the example creates a figure with a plot of 49 images from the CIFAR-10 training\n", 
        "dataset, arranged in a 7 \u00d7 7 square. In the plot, you can see small photographs of planes, trucks,\n", 
        "horses, cars, frogs, and so on."
      ], 
      "cell_type": "markdown", 
      "metadata": {}
    }
  ], 
  "metadata": {
    "kernelspec": {
      "display_name": "Python 3", 
      "name": "python3", 
      "language": "python"
    }, 
    "language_info": {
      "mimetype": "text/x-python", 
      "nbconvert_exporter": "python", 
      "name": "python", 
      "file_extension": ".py", 
      "version": "3.6.1", 
      "pygments_lexer": "ipython3", 
      "codemirror_mode": {
        "version": 3, 
        "name": "ipython"
      }
    }, 
    "anaconda-cloud": {}
  }
}