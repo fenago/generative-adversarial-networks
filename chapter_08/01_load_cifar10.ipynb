{
  "nbformat_minor": 1, 
  "nbformat": 4, 
  "cells": [
    {
      "source": [
        "## CIFAR-10 Small Object Photograph Dataset\n", 
        "CIFAR is an acronym that stands for the Canadian Institute For Advanced Research and\n", 
        "the CIFAR-10 dataset was developed along with the CIFAR-100 dataset (covered in the next\n", 
        "section) by researchers at the CIFAR institute. The dataset is comprised of 60,000 32 \u00d7 32\n", 
        "pixel color photographs of objects from 10 classes, such as frogs, birds, cats, ships, airplanes,\n", 
        "etc. These are very small images, much smaller than a typical photograph, and the dataset\n", 
        "is intended for computer vision research. Keras provides access to the CIFAR-10 dataset via\n", 
        "the cifar10.load dataset() function. It returns two tuples, one with the input and output\n", 
        "elements for the standard training dataset, and another with the input and output elements for\n", 
        "the standard test dataset. The example below loads the dataset and summarizes the shape of\n", 
        "the loaded dataset.\n", 
        "\n", 
        "Note: the first time you load the dataset, Keras will automatically download a compressed\n", 
        "version of the images and save them under your home directory in \u223c/.keras/datasets/. The\n", 
        "download is fast as the dataset is only about 163 megabytes in its compressed form."
      ], 
      "cell_type": "markdown", 
      "metadata": {}
    }, 
    {
      "source": [
        "# example of loading the cifar10 dataset\n", 
        "from keras.datasets.cifar10 import load_data\n", 
        "# load the images into memory\n", 
        "(trainX, trainy), (testX, testy) = load_data()\n", 
        "# summarize the shape of the dataset\n", 
        "print('Train', trainX.shape, trainy.shape)\n", 
        "print('Test', testX.shape, testy.shape)\n"
      ], 
      "cell_type": "code", 
      "execution_count": null, 
      "outputs": [], 
      "metadata": {}
    }, 
    {
      "source": [
        "Running the example loads the dataset and prints the shape of the input and output\n", 
        "components of the train and test splits of images. We can see that there are 50K examples in\n", 
        "the training set and 10K in the test set and that each image is a square of 32 by 32 pixels."
      ], 
      "cell_type": "markdown", 
      "metadata": {}
    }
  ], 
  "metadata": {
    "kernelspec": {
      "display_name": "Python 3", 
      "name": "python3", 
      "language": "python"
    }, 
    "language_info": {
      "mimetype": "text/x-python", 
      "nbconvert_exporter": "python", 
      "name": "python", 
      "file_extension": ".py", 
      "version": "3.6.1", 
      "pygments_lexer": "ipython3", 
      "codemirror_mode": {
        "version": 3, 
        "name": "ipython"
      }
    }, 
    "anaconda-cloud": {}
  }
}