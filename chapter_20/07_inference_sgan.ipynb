{
  "nbformat_minor": 1, 
  "nbformat": 4, 
  "cells": [
    {
      "source": [
        "# example of loading the classifier model and generating images\n", 
        "from numpy import expand_dims\n", 
        "from keras.models import load_model\n", 
        "from keras.datasets.mnist import load_data\n", 
        "# load the model\n", 
        "model = load_model('c_model_7200.h5')\n", 
        "# load the dataset\n", 
        "(trainX, trainy), (testX, testy) = load_data()\n", 
        "# expand to 3d, e.g. add channels\n", 
        "trainX = expand_dims(trainX, axis=-1)\n", 
        "testX = expand_dims(testX, axis=-1)\n", 
        "# convert from ints to floats\n", 
        "trainX = trainX.astype('float32')\n", 
        "testX = testX.astype('float32')\n", 
        "# scale from [0,255] to [-1,1]\n", 
        "trainX = (trainX - 127.5) / 127.5\n", 
        "testX = (testX - 127.5) / 127.5\n", 
        "# evaluate the model\n", 
        "_, train_acc = model.evaluate(trainX, trainy, verbose=0)\n", 
        "print('Train Accuracy: %.3f%%' % (train_acc * 100))\n", 
        "_, test_acc = model.evaluate(testX, testy, verbose=0)\n", 
        "print('Test Accuracy: %.3f%%' % (test_acc * 100))"
      ], 
      "cell_type": "code", 
      "execution_count": null, 
      "outputs": [], 
      "metadata": {}
    }
  ], 
  "metadata": {
    "kernelspec": {
      "display_name": "Python 3", 
      "name": "python3", 
      "language": "python"
    }, 
    "language_info": {
      "mimetype": "text/x-python", 
      "nbconvert_exporter": "python", 
      "name": "python", 
      "file_extension": ".py", 
      "version": "3.6.1", 
      "pygments_lexer": "ipython3", 
      "codemirror_mode": {
        "version": 3, 
        "name": "ipython"
      }
    }, 
    "anaconda-cloud": {}
  }
}