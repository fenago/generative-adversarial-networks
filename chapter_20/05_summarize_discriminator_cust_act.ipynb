{
  "nbformat_minor": 1, 
  "nbformat": 4, 
  "cells": [
    {
      "source": [
        "## Stacked Discriminator Models With Shared Weights\n", 
        "A final approach is very similar to the prior two semi-supervised approaches and involves creating\n", 
        "separate logical unsupervised and supervised models but attempts to reuse the output layers of\n", 
        "one model to feed as input into another model. The approach is based on the definition of the\n", 
        "semi-supervised model in the 2016 paper by Tim Salimans, et al. from OpenAI titled Improved\n", 
        "Techniques for Training GANs. In the paper, they describe an efficient implementation, where\n", 
        "first the supervised model is created with K output classes and a softmax activation function.\n", 
        "The unsupervised model is then defined that takes the output of the supervised model prior to\n", 
        "the softmax activation, then calculates a normalized sum of the exponential outputs."
      ], 
      "cell_type": "markdown", 
      "metadata": {}
    }, 
    {
      "source": [
        "# example of defining semi-supervised discriminator model\n", 
        "from keras.models import Model\n", 
        "from keras.layers import Input\n", 
        "from keras.layers import Dense\n", 
        "from keras.layers import Conv2D\n", 
        "from keras.layers import LeakyReLU\n", 
        "from keras.layers import Dropout\n", 
        "from keras.layers import Flatten\n", 
        "from keras.layers import Activation\n", 
        "from keras.layers import Lambda\n", 
        "from keras.optimizers import Adam\n", 
        "from keras.utils.vis_utils import plot_model\n", 
        "from keras import backend\n", 
        "\n", 
        "# custom activation function\n", 
        "def custom_activation(output):\n", 
        "\tlogexpsum = backend.sum(backend.exp(output), axis=-1, keepdims=True)\n", 
        "\tresult = logexpsum / (logexpsum + 1.0)\n", 
        "\treturn result\n", 
        "\n", 
        "# define the standalone supervised and unsupervised discriminator models\n", 
        "def define_discriminator(in_shape=(28,28,1), n_classes=10):\n", 
        "\t# image input\n", 
        "\tin_image = Input(shape=in_shape)\n", 
        "\t# downsample\n", 
        "\tfe = Conv2D(128, (3,3), strides=(2,2), padding='same')(in_image)\n", 
        "\tfe = LeakyReLU(alpha=0.2)(fe)\n", 
        "\t# downsample\n", 
        "\tfe = Conv2D(128, (3,3), strides=(2,2), padding='same')(fe)\n", 
        "\tfe = LeakyReLU(alpha=0.2)(fe)\n", 
        "\t# downsample\n", 
        "\tfe = Conv2D(128, (3,3), strides=(2,2), padding='same')(fe)\n", 
        "\tfe = LeakyReLU(alpha=0.2)(fe)\n", 
        "\t# flatten feature maps\n", 
        "\tfe = Flatten()(fe)\n", 
        "\t# dropout\n", 
        "\tfe = Dropout(0.4)(fe)\n", 
        "\t# output layer nodes\n", 
        "\tfe = Dense(n_classes)(fe)\n", 
        "\t# supervised output\n", 
        "\tc_out_layer = Activation('softmax')(fe)\n", 
        "\t# define and compile supervised discriminator model\n", 
        "\tc_model = Model(in_image, c_out_layer)\n", 
        "\tc_model.compile(loss='sparse_categorical_crossentropy', optimizer=Adam(lr=0.0002, beta_1=0.5), metrics=['accuracy'])\n", 
        "\t# unsupervised output\n", 
        "\td_out_layer = Lambda(custom_activation)(fe)\n", 
        "\t# define and compile unsupervised discriminator model\n", 
        "\td_model = Model(in_image, d_out_layer)\n", 
        "\td_model.compile(loss='binary_crossentropy', optimizer=Adam(lr=0.0002, beta_1=0.5))\n", 
        "\treturn d_model, c_model\n", 
        "\n", 
        "# create model\n", 
        "d_model, c_model = define_discriminator()\n", 
        "# plot the model\n", 
        "plot_model(d_model, to_file='stacked_discriminator1_plot.png', show_shapes=True, show_layer_names=True)\n", 
        "plot_model(c_model, to_file='stacked_discriminator2_plot.png', show_shapes=True, show_layer_names=True)"
      ], 
      "cell_type": "code", 
      "execution_count": null, 
      "outputs": [], 
      "metadata": {}
    }, 
    {
      "source": [
        "from PIL import Image\n", 
        "from IPython.display import display # to display images\n", 
        "\n", 
        "image = Image.open('stacked_discriminator1_plot.png')\n", 
        "display(image)"
      ], 
      "cell_type": "code", 
      "execution_count": null, 
      "outputs": [], 
      "metadata": {}
    }, 
    {
      "source": [
        "from PIL import Image\n", 
        "from IPython.display import display # to display images\n", 
        "\n", 
        "image = Image.open('stacked_discriminator2_plot.png')\n", 
        "display(image)"
      ], 
      "cell_type": "code", 
      "execution_count": null, 
      "outputs": [], 
      "metadata": {}
    }
  ], 
  "metadata": {
    "kernelspec": {
      "display_name": "Python 3", 
      "name": "python3", 
      "language": "python"
    }, 
    "language_info": {
      "mimetype": "text/x-python", 
      "nbconvert_exporter": "python", 
      "name": "python", 
      "file_extension": ".py", 
      "version": "3.6.1", 
      "pygments_lexer": "ipython3", 
      "codemirror_mode": {
        "version": 3, 
        "name": "ipython"
      }
    }, 
    "anaconda-cloud": {}
  }
}