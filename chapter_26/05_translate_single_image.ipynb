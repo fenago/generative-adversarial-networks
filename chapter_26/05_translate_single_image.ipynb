{
  "nbformat_minor": 1, 
  "nbformat": 4, 
  "cells": [
    {
      "source": [
        "# example of using saved cyclegan models for image translation\n", 
        "from numpy import expand_dims\n", 
        "from keras.models import load_model\n", 
        "from keras_contrib.layers.normalization.instancenormalization import InstanceNormalization\n", 
        "from keras.preprocessing.image import img_to_array\n", 
        "from keras.preprocessing.image import load_img\n", 
        "%matplotlib notebook\n", 
        "from matplotlib import pyplot\n", 
        "\n", 
        "# load an image to the preferred size\n", 
        "def load_image(filename, size=(256,256)):\n", 
        "\t# load and resize the image\n", 
        "\tpixels = load_img(filename, target_size=size)\n", 
        "\t# convert to numpy array\n", 
        "\tpixels = img_to_array(pixels)\n", 
        "\t# transform in a sample\n", 
        "\tpixels = expand_dims(pixels, 0)\n", 
        "\t# scale from [0,255] to [-1,1]\n", 
        "\tpixels = (pixels - 127.5) / 127.5\n", 
        "\treturn pixels\n", 
        "\n", 
        "# load the image\n", 
        "image_src = load_image('horse2zebra/trainA/n02381460_541.jpg')\n", 
        "# load the model\n", 
        "cust = {'InstanceNormalization': InstanceNormalization}\n", 
        "model_AtoB = load_model('g_model_AtoB_100895.h5', cust)\n", 
        "# translate image\n", 
        "image_tar = model_AtoB.predict(image_src)\n", 
        "# scale from [-1,1] to [0,1]\n", 
        "image_tar = (image_tar + 1) / 2.0\n", 
        "# plot the translated image\n", 
        "pyplot.imshow(image_tar[0])\n", 
        "pyplot.show()"
      ], 
      "cell_type": "code", 
      "execution_count": null, 
      "outputs": [], 
      "metadata": {}
    }
  ], 
  "metadata": {
    "kernelspec": {
      "display_name": "Python 3", 
      "name": "python3", 
      "language": "python"
    }, 
    "language_info": {
      "mimetype": "text/x-python", 
      "nbconvert_exporter": "python", 
      "name": "python", 
      "file_extension": ".py", 
      "version": "3.6.1", 
      "pygments_lexer": "ipython3", 
      "codemirror_mode": {
        "version": 3, 
        "name": "ipython"
      }
    }, 
    "anaconda-cloud": {}
  }
}