{
  "nbformat_minor": 1, 
  "nbformat": 4, 
  "cells": [
    {
      "source": [
        "## What Is the CycleGAN?\n", 
        "The CycleGAN model was described by Jun-Yan Zhu, et al. in their 2017 paper titled Unpaired Image-to-Image Translation using Cycle-Consistent Adversarial Networks. The benefit of the CycleGAN model is that it can be trained without paired\n", 
        "examples. That is, it does not require examples of photographs before and after the translation\n", 
        "in order to train the model, e.g. photos of the same city landscape during the day and at night.\n", 
        "Instead, the model is able to use a collection of photographs from each domain and extract\n", 
        "and harness the underlying style of images in the collection in order to perform the translation.\n", 
        "The paper provides a good description of the models and training process, although the official\n", 
        "Torch implementation was used as the definitive description for each model and training process\n", 
        "and provides the basis for the model implementations described below."
      ], 
      "cell_type": "markdown", 
      "metadata": {}
    }, 
    {
      "source": [
        "We can load the dataset and plot some of the photos to confirm that we are handling\n", 
        "the image data correctly. The complete example is listed below."
      ], 
      "cell_type": "markdown", 
      "metadata": {}
    }, 
    {
      "source": [
        "# load and plot the prepared dataset\n", 
        "from numpy import load\n", 
        "%matplotlib notebook\n", 
        "from matplotlib import pyplot\n", 
        "# load the face dataset\n", 
        "data = load('horse2zebra_256.npz')\n", 
        "dataA, dataB = data['arr_0'], data['arr_1']\n", 
        "print('Loaded: ', dataA.shape, dataB.shape)\n", 
        "# plot source images\n", 
        "n_samples = 3\n", 
        "for i in range(n_samples):\n", 
        "\tpyplot.subplot(2, n_samples, 1 + i)\n", 
        "\tpyplot.axis('off')\n", 
        "\tpyplot.imshow(dataA[i].astype('uint8'))\n", 
        "# plot target image\n", 
        "for i in range(n_samples):\n", 
        "\tpyplot.subplot(2, n_samples, 1 + n_samples + i)\n", 
        "\tpyplot.axis('off')\n", 
        "\tpyplot.imshow(dataB[i].astype('uint8'))\n", 
        "pyplot.show()"
      ], 
      "cell_type": "code", 
      "execution_count": null, 
      "outputs": [], 
      "metadata": {}
    }
  ], 
  "metadata": {
    "kernelspec": {
      "display_name": "Python 3", 
      "name": "python3", 
      "language": "python"
    }, 
    "language_info": {
      "mimetype": "text/x-python", 
      "nbconvert_exporter": "python", 
      "name": "python", 
      "file_extension": ".py", 
      "version": "3.6.1", 
      "pygments_lexer": "ipython3", 
      "codemirror_mode": {
        "version": 3, 
        "name": "ipython"
      }
    }, 
    "anaconda-cloud": {}
  }
}