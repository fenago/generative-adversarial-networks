{
  "nbformat_minor": 1, 
  "nbformat": 4, 
  "cells": [
    {
      "source": [
        "The images are grayscale with a black background (0 pixel value) and the handwritten digits\n", 
        "in white (pixel values near 255). This means if the images were plotted, they would be mostly\n", 
        "black with a white digit in the middle. We can plot some of the images from the training dataset\n", 
        "using the Matplotlib library using the imshow() function and specify the color map via the\n", 
        "cmap argument as \u2018gray\u2019 to show the pixel values correctly.7.2. MNIST Handwritten Digit Dataset 97\n", 
        "\n", 
        "Alternately, the images are easier to review when we reverse the colors and plot the\n", 
        "background as white and the handwritten digits in black. They are easier to view as most of\n", 
        "the image is now white with the area of interest in black. This can be achieved using a reverse\n", 
        "grayscale color map, as follows:"
      ], 
      "cell_type": "markdown", 
      "metadata": {}
    }, 
    {
      "source": [
        "# example of loading the mnist dataset\n", 
        "from keras.datasets.mnist import load_data\n", 
        "%matplotlib notebook\n", 
        "from matplotlib import pyplot\n", 
        "# load the images into memory\n", 
        "(trainX, trainy), (testX, testy) = load_data()\n", 
        "# plot images from the training dataset\n", 
        "for i in range(25):\n", 
        "\t# define subplot\n", 
        "\tpyplot.subplot(5, 5, 1 + i)\n", 
        "\t# turn off axis\n", 
        "\tpyplot.axis('off')\n", 
        "\t# plot raw pixel data\n", 
        "\tpyplot.imshow(trainX[i], cmap='gray_r')\n", 
        "pyplot.show()\n"
      ], 
      "cell_type": "code", 
      "execution_count": null, 
      "outputs": [], 
      "metadata": {}
    }, 
    {
      "source": [
        "Running the example creates a plot of 25 images from the MNIST training dataset, arranged\n", 
        "in a 5 \u00d7 5 square.\n", 
        "\n", 
        "We will use the images in the training dataset as the basis for training a Generative Adversarial\n", 
        "Network. Specifically, the generator model will learn how to generate new plausible handwritten\n", 
        "digits between 0 and 9, using a discriminator that will try to distinguish between real images\n", 
        "from the MNIST training dataset and new images output by the generator model. This is a\n", 
        "relatively simple problem that does not require a sophisticated generator or discriminator model,\n", 
        "although it does require the generation of a grayscale output image."
      ], 
      "cell_type": "markdown", 
      "metadata": {}
    }
  ], 
  "metadata": {
    "kernelspec": {
      "display_name": "Python 3", 
      "name": "python3", 
      "language": "python"
    }, 
    "language_info": {
      "mimetype": "text/x-python", 
      "nbconvert_exporter": "python", 
      "name": "python", 
      "file_extension": ".py", 
      "version": "3.6.1", 
      "pygments_lexer": "ipython3", 
      "codemirror_mode": {
        "version": 3, 
        "name": "ipython"
      }
    }, 
    "anaconda-cloud": {}
  }
}