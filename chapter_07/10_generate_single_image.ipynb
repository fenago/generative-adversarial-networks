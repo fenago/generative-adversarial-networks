{
  "nbformat_minor": 1, 
  "nbformat": 4, 
  "cells": [
    {
      "source": [
        "The latent space now defines a compressed representation of MNIST handwritten digits.\n", 
        "You can experiment with generating different points in this space and see what types of numbers\n", 
        "they generate. The example below generates a single handwritten digit using a vector of all 0.0\n", 
        "values.\n", 
        "\n", 
        "Note: Your specific results may vary given the stochastic nature of the learning algorithm.\n", 
        "Consider running the example a few times and compare the average performance."
      ], 
      "cell_type": "markdown", 
      "metadata": {}
    }, 
    {
      "source": [
        "# example of generating an image for a specific point in the latent space\n", 
        "from keras.models import load_model\n", 
        "from numpy import asarray\n", 
        "%matplotlib notebook\n", 
        "from matplotlib import pyplot\n", 
        "# load model\n", 
        "model = load_model('generator_model_100.h5')\n", 
        "# all 0s\n", 
        "vector = asarray([[0.0 for _ in range(100)]])\n", 
        "# generate image\n", 
        "X = model.predict(vector)\n", 
        "# plot the result\n", 
        "pyplot.imshow(X[0, :, :, 0], cmap='gray_r')\n", 
        "pyplot.show()"
      ], 
      "cell_type": "code", 
      "execution_count": null, 
      "outputs": [], 
      "metadata": {}
    }, 
    {
      "source": [
        "In this case, a vector of all zeros results in a handwritten 9 or maybe an 8. You can then try\n", 
        "navigating the space and see if you can generate a range of similar, but different handwritten\n", 
        "digits."
      ], 
      "cell_type": "markdown", 
      "metadata": {}
    }
  ], 
  "metadata": {
    "kernelspec": {
      "display_name": "Python 3", 
      "name": "python3", 
      "language": "python"
    }, 
    "language_info": {
      "mimetype": "text/x-python", 
      "nbconvert_exporter": "python", 
      "name": "python", 
      "file_extension": ".py", 
      "version": "3.6.1", 
      "pygments_lexer": "ipython3", 
      "codemirror_mode": {
        "version": 3, 
        "name": "ipython"
      }
    }, 
    "anaconda-cloud": {}
  }
}