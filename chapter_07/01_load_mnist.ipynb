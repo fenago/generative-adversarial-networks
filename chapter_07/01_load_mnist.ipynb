{
  "nbformat_minor": 1, 
  "nbformat": 4, 
  "cells": [
    {
      "source": [
        "## MNIST Handwritten Digit Dataset\n", 
        "The MNIST dataset is an acronym that stands for the Modified National Institute of Standards\n", 
        "and Technology dataset. It is a dataset of 70,000 small square 28 \u00d7 28 pixel grayscale images of\n", 
        "handwritten single digits between 0 and 9. The task is to classify a given image of a handwritten\n", 
        "digit into one of 10 classes representing integer values from 0 to 9, inclusively. Keras provides\n", 
        "access to the MNIST dataset via the mnist.load dataset() function. It returns two tuples,\n", 
        "one with the input and output elements for the standard training dataset, and another with the\n", 
        "input and output elements for the standard test dataset. The example below loads the dataset\n", 
        "and summarizes the shape of the loaded dataset.\n", 
        "Note: the first time you load the dataset, Keras will automatically download a compressed\n", 
        "version of the images and save them under your home directory in \u223c/.keras/datasets/. The\n", 
        "download is fast as the dataset is only about eleven megabytes in its compressed form."
      ], 
      "cell_type": "markdown", 
      "metadata": {}
    }, 
    {
      "source": [
        "# example of loading the mnist dataset\n", 
        "from keras.datasets.mnist import load_data\n", 
        "# load the images into memory\n", 
        "(trainX, trainy), (testX, testy) = load_data()\n", 
        "# summarize the shape of the dataset\n", 
        "print('Train', trainX.shape, trainy.shape)\n", 
        "print('Test', testX.shape, testy.shape)"
      ], 
      "cell_type": "code", 
      "execution_count": null, 
      "outputs": [], 
      "metadata": {}
    }, 
    {
      "source": [
        "Running the example loads the dataset and prints the shape of the input and output\n", 
        "components of the train and test splits of images. We can see that there are 60K examples in\n", 
        "the training set and 10K in the test set and that each image is a square of 28 by 28 pixels.\n", 
        "Train (60000, 28, 28) (60000,)\n", 
        "Test (10000, 28, 28) (10000,)"
      ], 
      "cell_type": "markdown", 
      "metadata": {}
    }
  ], 
  "metadata": {
    "kernelspec": {
      "display_name": "Python 3", 
      "name": "python3", 
      "language": "python"
    }, 
    "language_info": {
      "mimetype": "text/x-python", 
      "nbconvert_exporter": "python", 
      "name": "python", 
      "file_extension": ".py", 
      "version": "3.6.1", 
      "pygments_lexer": "ipython3", 
      "codemirror_mode": {
        "version": 3, 
        "name": "ipython"
      }
    }, 
    "anaconda-cloud": {}
  }
}