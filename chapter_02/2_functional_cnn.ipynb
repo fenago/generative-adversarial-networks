{
  "nbformat_minor": 1, 
  "nbformat": 4, 
  "cells": [
    {
      "source": [
        "## Convolutional Neural Network\n", 
        "In this section, we will define a convolutional neural network for image classification. The model\n", 
        "receives black and white 64 X 64 images as input, then has a sequence of two convolutional and\n", 
        "pooling layers as feature extractors, followed by a fully connected layer to interpret the features\n", 
        "and an output layer with a sigmoid activation for two-class predictions. "
      ], 
      "cell_type": "markdown", 
      "metadata": {}
    }, 
    {
      "source": [
        "# example of a convolutional neural network\n", 
        "from keras.utils import plot_model\n", 
        "from keras.models import Model\n", 
        "from keras.layers import Input\n", 
        "from keras.layers import Dense\n", 
        "from keras.layers import Flatten\n", 
        "from keras.layers.convolutional import Conv2D\n", 
        "from keras.layers.pooling import MaxPooling2D\n", 
        "visible = Input(shape=(64,64,1))\n", 
        "conv1 = Conv2D(32, (4,4), activation='relu')(visible)\n", 
        "pool1 = MaxPooling2D()(conv1)\n", 
        "conv2 = Conv2D(16, (4,4), activation='relu')(pool1)\n", 
        "pool2 = MaxPooling2D()(conv2)\n", 
        "flat1 = Flatten()(pool2)\n", 
        "hidden1 = Dense(10, activation='relu')(flat1)\n", 
        "output = Dense(1, activation='sigmoid')(hidden1)\n", 
        "model = Model(inputs=visible, outputs=output)\n"
      ], 
      "cell_type": "code", 
      "execution_count": null, 
      "outputs": [], 
      "metadata": {}
    }, 
    {
      "source": [
        " \n", 
        "Running the example prints the structure of the network. A plot of the model graph is also created and saved to file."
      ], 
      "cell_type": "markdown", 
      "metadata": {}
    }, 
    {
      "source": [
        "# summarize layers\n", 
        "model.summary()\n", 
        "# plot graph\n", 
        "plot_model(model, to_file='convolutional_neural_network.png')\n"
      ], 
      "cell_type": "code", 
      "execution_count": null, 
      "outputs": [], 
      "metadata": {}
    }, 
    {
      "source": [
        "from PIL import Image\n", 
        "from IPython.display import display # to display images\n", 
        "\n", 
        "image = Image.open('convolutional_neural_network.png')\n", 
        "display(image)"
      ], 
      "cell_type": "code", 
      "execution_count": null, 
      "outputs": [], 
      "metadata": {}
    }
  ], 
  "metadata": {
    "kernelspec": {
      "display_name": "Python 3", 
      "name": "python3", 
      "language": "python"
    }, 
    "language_info": {
      "mimetype": "text/x-python", 
      "nbconvert_exporter": "python", 
      "name": "python", 
      "file_extension": ".py", 
      "version": "3.6.1", 
      "pygments_lexer": "ipython3", 
      "codemirror_mode": {
        "version": 3, 
        "name": "ipython"
      }
    }, 
    "anaconda-cloud": {}
  }
}