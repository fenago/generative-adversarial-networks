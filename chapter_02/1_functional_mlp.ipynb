{
  "nbformat_minor": 1, 
  "nbformat": 4, 
  "cells": [
    {
      "source": [
        "## Multilayer Perceptron\n", 
        "In this section, we define a Multilayer Perceptron model for binary classification. The model\n", 
        "has 10 inputs, 3 hidden layers with 10, 20, and 10 neurons, and an output layer with 1 output.\n", 
        "Rectified linear activation functions are used in each hidden layer and a sigmoid activation\n", 
        "function is used in the output layer, for binary classification."
      ], 
      "cell_type": "markdown", 
      "metadata": {}
    }, 
    {
      "source": [
        "# example of a multilayer perceptron\n", 
        "from keras.utils import plot_model\n", 
        "from keras.models import Model\n", 
        "from keras.layers import Input\n", 
        "from keras.layers import Dense\n", 
        "visible = Input(shape=(10,))\n", 
        "hidden1 = Dense(10, activation='relu')(visible)\n", 
        "hidden2 = Dense(20, activation='relu')(hidden1)\n", 
        "hidden3 = Dense(10, activation='relu')(hidden2)\n", 
        "output = Dense(1, activation='sigmoid')(hidden3)\n", 
        "model = Model(inputs=visible, outputs=output)"
      ], 
      "cell_type": "code", 
      "execution_count": null, 
      "outputs": [], 
      "metadata": {}
    }, 
    {
      "source": [
        " \n", 
        "Running the example prints the structure of the network."
      ], 
      "cell_type": "markdown", 
      "metadata": {}
    }, 
    {
      "source": [
        "# summarize layers\n", 
        "model.summary()\n", 
        "# plot graph\n", 
        "plot_model(model, to_file='multilayer_perceptron_graph.png')\n"
      ], 
      "cell_type": "code", 
      "execution_count": null, 
      "outputs": [], 
      "metadata": {}
    }, 
    {
      "source": [
        "from PIL import Image\n", 
        "from IPython.display import display # to display images\n", 
        "\n", 
        "image = Image.open('multilayer_perceptron_graph.png')\n", 
        "display(image)"
      ], 
      "cell_type": "code", 
      "execution_count": null, 
      "outputs": [], 
      "metadata": {}
    }
  ], 
  "metadata": {
    "kernelspec": {
      "display_name": "Python 3", 
      "name": "python3", 
      "language": "python"
    }, 
    "language_info": {
      "mimetype": "text/x-python", 
      "nbconvert_exporter": "python", 
      "name": "python", 
      "file_extension": ".py", 
      "version": "3.6.1", 
      "pygments_lexer": "ipython3", 
      "codemirror_mode": {
        "version": 3, 
        "name": "ipython"
      }
    }, 
    "anaconda-cloud": {}
  }
}