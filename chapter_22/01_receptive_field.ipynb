{
  "nbformat_minor": 1, 
  "nbformat": 4, 
  "cells": [
    {
      "source": [
        "## How to Implement the PatchGAN Discriminator Model\n", 
        "The discriminator model in the Pix2Pix GAN is implemented as a PatchGAN. The PatchGAN\n", 
        "is designed based on the size of the receptive field, sometimes called the effective receptive field.\n", 
        "The receptive field is the relationship between one output activation of the model to an area on\n", 
        "the input image (actually volume as it proceeded down the input channels). A PatchGAN with\n", 
        "the size 70 \u00d7 70 is used, which means that the output (or each output) of the model maps to a\n", 
        "70 \u00d7 70 square of the input image. In effect, a 70 \u00d7 70 PatchGAN will classify 70 \u00d7 70 patches\n", 
        "of the input image as real or fake."
      ], 
      "cell_type": "markdown", 
      "metadata": {}
    }, 
    {
      "source": [
        "Before we dive into the configuration details of the PatchGAN, it is important to get a handle\n", 
        "on the calculation of the receptive field. The receptive field is not the size of the output of the\n", 
        "discriminator model, e.g. it does not refer to the shape of the activation map output by the22.3. How to Implement the PatchGAN Discriminator Model 466\n", 
        "model. It is a definition of the model in terms of one pixel in the output activation map to the\n", 
        "input image. The output of the model may be a single value or a square activation map of values\n", 
        "that predict whether each patch of the input image is real or fake. Traditionally, the receptive\n", 
        "field refers to the size of the activation map of a single convolutional layer with regards to the\n", 
        "input of the layer, the size of the filter, and the size of the stride. The effective receptive field\n", 
        "generalizes this idea and calculates the receptive field for the output of a stack of convolutional\n", 
        "layers with regard to the raw image input. The terms are often used interchangeably.\n", 
        "The authors of the Pix2Pix GAN provide a Matlab script to calculate the effective receptive\n", 
        "field size for different model configurations in a script called receptive field sizes.m1. It\n", 
        "can be helpful to work through an example for the 70 \u00d7 70 PatchGAN receptive field calculation.\n", 
        "The 70 \u00d7 70 PatchGAN has a fixed number of three layers (excluding the output and second\n", 
        "last layers), regardless of the size of the input image. The calculation of the receptive field in\n", 
        "one dimension is calculated as:\n", 
        "\n", 
        "receptive field = (output size \u2212 1) \u00d7 stride + kernel size\n", 
        "\n", 
        "Where output size is the size of the prior layers activation map, stride is the number of\n", 
        "pixels the filter is moved when applied to the activation, and kernel size is the size of the filter\n", 
        "to be applied. The PatchGAN uses a fixed stride of 2 \u00d7 2 (except in the output and second\n", 
        "last layers) and a fixed kernel size of 4 \u00d7 4. We can, therefore, calculate the receptive field size\n", 
        "starting with one pixel in the output of the model and working backward to the input image.\n", 
        "We can develop a Python function called receptive field() to calculate the receptive field,\n", 
        "then calculate and print the receptive field for each layer in the Pix2Pix PatchGAN model. The\n", 
        "complete example is listed below."
      ], 
      "cell_type": "markdown", 
      "metadata": {}
    }, 
    {
      "source": [
        "# example of calculating the receptive field for the PatchGAN\n", 
        "\n", 
        "# calculate the effective receptive field size\n", 
        "def receptive_field(output_size, kernel_size, stride_size):\n", 
        "    return (output_size - 1) * stride_size + kernel_size\n", 
        "\n", 
        "# output layer 1x1 pixel with 4x4 kernel and 1x1 stride\n", 
        "rf = receptive_field(1, 4, 1)\n", 
        "print(rf)\n", 
        "# second last layer with 4x4 kernel and 1x1 stride\n", 
        "rf = receptive_field(rf, 4, 1)\n", 
        "print(rf)\n", 
        "# 3 PatchGAN layers with 4x4 kernel and 2x2 stride\n", 
        "rf = receptive_field(rf, 4, 2)\n", 
        "print(rf)\n", 
        "rf = receptive_field(rf, 4, 2)\n", 
        "print(rf)\n", 
        "rf = receptive_field(rf, 4, 2)\n", 
        "print(rf)"
      ], 
      "cell_type": "code", 
      "execution_count": null, 
      "outputs": [], 
      "metadata": {}
    }
  ], 
  "metadata": {
    "kernelspec": {
      "display_name": "Python 3", 
      "name": "python3", 
      "language": "python"
    }, 
    "language_info": {
      "mimetype": "text/x-python", 
      "nbconvert_exporter": "python", 
      "name": "python", 
      "file_extension": ".py", 
      "version": "3.6.1", 
      "pygments_lexer": "ipython3", 
      "codemirror_mode": {
        "version": 3, 
        "name": "ipython"
      }
    }, 
    "anaconda-cloud": {}
  }
}